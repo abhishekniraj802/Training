{
 "cells": [
  {
   "cell_type": "code",
   "execution_count": 5,
   "id": "aeb91204-4f37-4f0a-9820-8dbe558fad84",
   "metadata": {},
   "outputs": [
    {
     "name": "stdout",
     "output_type": "stream",
     "text": [
      "student 1 - A\n",
      "student 2 - B\n",
      "student 3 - C\n",
      "student 4 - D\n",
      "student 5 - A\n",
      "student 6 - B\n",
      "student 7 - C\n",
      "student 8 - D\n",
      "student 9 - A\n",
      "student 10 - B\n",
      "student 11 - C\n",
      "student 12 - D\n",
      "student 13 - A\n",
      "student 14 - B\n",
      "student 15 - C\n",
      "student 16 - D\n",
      "student 17 - A\n",
      "student 18 - B\n",
      "student 19 - C\n",
      "student 20 - D\n"
     ]
    }
   ],
   "source": [
    "# task 1\n",
    "\n",
    "houses = ['A', 'B', 'C', 'D']\n",
    "idx = 0\n",
    "for i in range(1, 21):\n",
    "    print(f'student {i} - {houses[idx]}')\n",
    "    idx += 1\n",
    "    if idx == len(houses):\n",
    "        idx = 0"
   ]
  },
  {
   "cell_type": "code",
   "execution_count": 37,
   "id": "47002f9d-6fe4-4b4c-b820-1eaa8587f21d",
   "metadata": {},
   "outputs": [
    {
     "name": "stdout",
     "output_type": "stream",
     "text": [
      "{1: [0, 1, 2, 3, 4, 5, 6, 7, 8, 9, 10, 11, 12, 13, 14, 15, 16, 17, 18, 19, 20, 21, 22, 23, 24, 25, 26, 27, 28, 29, 30, 31, 32, 33, 34, 35, 36, 37, 38, 39, 40, 41, 42, 43, 44, 45, 46, 47, 48, 49], 2: [50, 51, 52, 53, 54, 55, 56, 57, 58, 59, 60, 61, 62, 63, 64, 65, 66, 67, 68, 69, 70, 71, 72, 73, 74, 75, 76, 77, 78, 79, 80, 81, 82, 83, 84, 85, 86, 87, 88, 89, 90, 91, 92, 93, 94, 95, 96, 97, 98, 99], 3: [100, 101, 102, 103, 104, 105, 106, 107, 108, 109, 110, 111, 112, 113, 114, 115, 116, 117, 118, 119, 120, 121, 122, 123, 124, 125, 126, 127, 128, 129, 130, 131, 132, 133, 134, 135, 136, 137, 138, 139, 140, 141, 142, 143, 144, 145, 146, 147, 148, 149], 4: [150, 151, 152, 153, 154, 155, 156, 157, 158, 159, 160, 161, 162, 163, 164, 165, 166, 167, 168, 169, 170, 171, 172, 173, 174, 175, 176, 177, 178, 179, 180, 181, 182, 183, 184, 185, 186, 187, 188, 189, 190, 191, 192, 193, 194, 195, 196, 197, 198, 199], 5: [200, 201, 202, 203, 204, 205, 206, 207, 208, 209, 210, 211, 212, 213, 214, 215, 216, 217, 218, 219, 220, 221, 222, 223, 224, 225, 226, 227, 228, 229, 230, 231, 232, 233, 234, 235, 236, 237, 238, 239, 240, 241, 242, 243, 244, 245, 246, 247, 248, 249], 6: [250, 251, 252, 253, 254, 255, 256, 257, 258, 259, 260, 261, 262, 263, 264, 265, 266, 267, 268, 269, 270, 271, 272, 273, 274, 275, 276, 277, 278, 279, 280, 281, 282, 283, 284, 285, 286, 287, 288, 289, 290, 291, 292, 293, 294, 295, 296, 297, 298, 299], 7: [300, 301, 302, 303, 304, 305, 306, 307, 308, 309, 310, 311, 312, 313, 314, 315, 316, 317, 318, 319, 320, 321, 322, 323, 324, 325, 326, 327, 328, 329, 330, 331, 332, 333, 334, 335, 336, 337, 338, 339, 340, 341, 342, 343, 344, 345, 346, 347, 348, 349], 8: [350, 351, 352, 353, 354, 355, 356, 357, 358, 359, 360, 361, 362, 363, 364, 365, 366, 367, 368, 369, 370, 371, 372, 373, 374, 375, 376, 377, 378, 379, 380, 381, 382, 383, 384, 385, 386, 387, 388, 389, 390, 391, 392, 393, 394, 395, 396, 397, 398, 399], 9: [400, 401, 402, 403, 404, 405, 406, 407, 408, 409, 410, 411, 412, 413, 414, 415, 416, 417, 418, 419, 420, 421, 422, 423, 424, 425, 426, 427, 428, 429]}\n"
     ]
    }
   ],
   "source": [
    "# task 1\n",
    "# split list into batches\n",
    "\n",
    "def f(A, batch_size):\n",
    "    ans = {}\n",
    "    idx = 1\n",
    "    n = len(A)\n",
    "    for i in range(0, n, batch_size):\n",
    "        ans[idx] = A[i:i+batch_size]\n",
    "        idx += 1\n",
    "    return ans\n",
    "\n",
    "print(f(list(range(430)), 50))"
   ]
  },
  {
   "cell_type": "code",
   "execution_count": 44,
   "id": "38e13260-356a-4fbb-8baf-ca1c1a79d13c",
   "metadata": {},
   "outputs": [
    {
     "name": "stdout",
     "output_type": "stream",
     "text": [
      "2025-02-26\n"
     ]
    }
   ],
   "source": [
    "from datetime import date\n",
    "\n",
    "today = date.today()\n",
    "\n",
    "print(today)"
   ]
  },
  {
   "cell_type": "code",
   "execution_count": 59,
   "id": "4e819a0c-2e52-4a32-8645-77f75ecc18f4",
   "metadata": {},
   "outputs": [
    {
     "name": "stdout",
     "output_type": "stream",
     "text": [
      "Tomorrow: 2015-11-23 14:49:20.623843\n"
     ]
    }
   ],
   "source": [
    "from datetime import timedelta\n",
    "\n",
    "now = datetime.now()\n",
    "\n",
    "# we can similarly do weeks, hours, minutes and seconds etc.\n",
    "print(f'Tomorrow: {now + timedelta(days=-3383)}')"
   ]
  },
  {
   "cell_type": "code",
   "execution_count": 3,
   "id": "df1ea197-34da-4ede-be72-43929e8e8a8e",
   "metadata": {},
   "outputs": [
    {
     "name": "stdout",
     "output_type": "stream",
     "text": [
      "26-02-25 18:51:50\n",
      "Wednesday, 26th of Feb 2025\n"
     ]
    }
   ],
   "source": [
    "# formatting datetime\n",
    "\n",
    "from datetime import datetime\n",
    "# now = datetime.now().strftime('%d-%m-%y %H:%M:%S')\n",
    "# print(now)\n",
    "# Wednesday, 26th of Feb 2025\n",
    "\n",
    "print(datetime.now().strftime('%A, %dth of %b %Y'))"
   ]
  },
  {
   "cell_type": "code",
   "execution_count": 127,
   "id": "95d83ed7-5aea-46c7-8e6a-7b5e05295d2f",
   "metadata": {},
   "outputs": [
    {
     "name": "stdout",
     "output_type": "stream",
     "text": [
      "56\n"
     ]
    }
   ],
   "source": [
    "# task 3\n",
    "# calculte the age of the person based on the dob\n",
    "from datetime import datetime\n",
    "\n",
    "def get_age(year, month, day):\n",
    "    age = 0\n",
    "    now = datetime.now()\n",
    "    age += now.year - year\n",
    "    age += -1 if month > now.month or (month == now.month and day > now.day) else 0\n",
    "    return age\n",
    "\n",
    "print(get_age(1968, 4, 10))"
   ]
  },
  {
   "cell_type": "code",
   "execution_count": 2,
   "id": "62a9b342-e67a-4b5c-8c0d-d7fe5eaf7aa2",
   "metadata": {},
   "outputs": [
    {
     "name": "stdout",
     "output_type": "stream",
     "text": [
      "{'event': 'client interview', 'date': datetime.datetime(2025, 3, 24, 0, 0), 'time_remaining': '0 years, 1 months, 0 days, 18 hours, 28 minutes', 'one_week_reminder': '2025-03-17 00:00:00', 'one_day_reminder': '2025-03-23 00:00:00'}\n"
     ]
    }
   ],
   "source": [
    "# task 4\n",
    "# scheduling future events and calculating time remaining\n",
    "# create a function that takes 2 arguments that are event name and the event date\n",
    "# and it should return the schedule as a dictionary\n",
    "# return the following things\n",
    "# event: name\n",
    "# date\n",
    "# time remaining\n",
    "# one week reminder\n",
    "# one day reminder\n",
    "# the format shud be: Wednesday, 26th of Feb 2025\n",
    "\n",
    "from datetime import datetime, timedelta\n",
    "\n",
    "def scheduling_future_events(event_name, event_date):\n",
    "    ans = {'event': event_name, 'date': event_date}\n",
    "    today = datetime.now()\n",
    "    time_remaining = f'{event_date.year - today.year} years, {event_date.month - today.month} months, {event_date.day - today.day if event_date.day == today.day else 0} days, {abs(event_date.hour - today.hour)} hours, {abs(event_date.minute - today.minute)} minutes'\n",
    "    one_week_reminder = f'{event_date - timedelta(weeks=1)}'\n",
    "    one_day_reminder = f'{event_date - timedelta(days=1)}'\n",
    "    ans['time_remaining'] = time_remaining\n",
    "    ans['one_week_reminder'] = one_week_reminder\n",
    "    ans['one_day_reminder'] = one_day_reminder\n",
    "    return ans\n",
    "\n",
    "print(scheduling_future_events('client interview', datetime(2025, 3, 24)))"
   ]
  },
  {
   "cell_type": "code",
   "execution_count": 165,
   "id": "3ee2e442-536c-4e7d-98d9-5306faada30e",
   "metadata": {},
   "outputs": [
    {
     "name": "stdout",
     "output_type": "stream",
     "text": [
      "enter the value of x > \n"
     ]
    },
    {
     "name": "stdout",
     "output_type": "stream",
     "text": [
      "You've entered None\n"
     ]
    },
    {
     "name": "stdout",
     "output_type": "stream",
     "text": [
      "enter the value of x > \n"
     ]
    },
    {
     "name": "stdout",
     "output_type": "stream",
     "text": [
      "You've entered None\n"
     ]
    },
    {
     "name": "stdout",
     "output_type": "stream",
     "text": [
      "enter the value of x > \n"
     ]
    },
    {
     "name": "stdout",
     "output_type": "stream",
     "text": [
      "You've entered None\n"
     ]
    },
    {
     "name": "stdout",
     "output_type": "stream",
     "text": [
      "enter the value of x > \n"
     ]
    },
    {
     "name": "stdout",
     "output_type": "stream",
     "text": [
      "You've entered None\n"
     ]
    },
    {
     "name": "stdout",
     "output_type": "stream",
     "text": [
      "enter the value of x > \n"
     ]
    },
    {
     "name": "stdout",
     "output_type": "stream",
     "text": [
      "You've entered None\n"
     ]
    },
    {
     "name": "stdout",
     "output_type": "stream",
     "text": [
      "enter the value of x > exit\n"
     ]
    }
   ],
   "source": [
    "x = None\n",
    "while x is None:\n",
    "    y = input('enter the value of x >').lower()\n",
    "    if y == 'quit' or y == 'exit':\n",
    "        break\n",
    "    elif x != '':\n",
    "        print(f'You\\'ve entered {x}')"
   ]
  },
  {
   "cell_type": "markdown",
   "id": "af7d6174-7ff7-4511-855d-3c687870ce63",
   "metadata": {},
   "source": [
    "Binary Type\n",
    "\n",
    "bytes: immutable\n",
    "bytearray: mutable\n",
    "\n",
    "Both store sequences of 8 bit integers \n",
    "\n",
    "memoryview: Memory effecient when dealing with binary data"
   ]
  },
  {
   "cell_type": "code",
   "execution_count": 177,
   "id": "13030b2b-02f2-4eec-9a67-694152a1eb52",
   "metadata": {},
   "outputs": [
    {
     "name": "stdout",
     "output_type": "stream",
     "text": [
      "b'Hello'\n"
     ]
    },
    {
     "data": {
      "text/plain": [
       "bytearray(b'Gello')"
      ]
     },
     "execution_count": 177,
     "metadata": {},
     "output_type": "execute_result"
    }
   ],
   "source": [
    "zero_bytes = bytes(5)\n",
    "from_string = bytes('Hello', encoding='utf-8')\n",
    "from_list = bytes(from_string)\n",
    "\n",
    "print(from_list)\n",
    "\n",
    "literal_bytes = bytearray('Hello', 'utf-8')\n",
    "literal_bytes[0] = 71\n",
    "literal_bytes"
   ]
  },
  {
   "cell_type": "code",
   "execution_count": 178,
   "id": "c4e6320e-43ee-4299-bb3d-2a14e0621c3e",
   "metadata": {},
   "outputs": [
    {
     "name": "stdout",
     "output_type": "stream",
     "text": [
      "<class '_io.TextIOWrapper'>\n",
      "Sample text in the file\n",
      "Sample text in the file\n"
     ]
    }
   ],
   "source": [
    "text_file = open('sample.txt')\n",
    "print(type(text_file))\n",
    "print(text_file.read())\n",
    "text_file.close()\n",
    "\n",
    "# using context mananger\n",
    "with open('sample.txt', 'r') as f:\n",
    "    content = f.read()\n",
    "\n",
    "print(content)"
   ]
  },
  {
   "cell_type": "code",
   "execution_count": 189,
   "id": "80fd8eb9-3884-43e7-a984-d0596e3f5682",
   "metadata": {},
   "outputs": [],
   "source": [
    "# task 5\n",
    "# read the contents of one pdf into another pdf file\n",
    "\n",
    "with open('2020-Scrum-Guide-US.pdf', 'rb') as file1:\n",
    "    content = file1.read()\n",
    "    with open('new-pdf.pdf', 'wb') as file2:\n",
    "        file2.write(content)"
   ]
  },
  {
   "cell_type": "code",
   "execution_count": 1,
   "id": "d36f9ca3-509d-48d2-a7f4-addf75ec10f4",
   "metadata": {},
   "outputs": [
    {
     "name": "stdout",
     "output_type": "stream",
     "text": [
      "0 x\n",
      "1 y\n",
      "2 z\n"
     ]
    }
   ],
   "source": [
    "def X(**a):\n",
    "    for k, v in enumerate(a):\n",
    "        print(k, v)\n",
    "\n",
    "X(x=1, y=2, z=3)"
   ]
  }
 ],
 "metadata": {
  "kernelspec": {
   "display_name": "Python 3",
   "language": "python",
   "name": "python3"
  },
  "language_info": {
   "codemirror_mode": {
    "name": "ipython",
    "version": 3
   },
   "file_extension": ".py",
   "mimetype": "text/x-python",
   "name": "python",
   "nbconvert_exporter": "python",
   "pygments_lexer": "ipython3",
   "version": "3.13.1"
  }
 },
 "nbformat": 4,
 "nbformat_minor": 5
}
