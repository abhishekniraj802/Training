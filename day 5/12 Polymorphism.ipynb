{
 "cells": [
  {
   "cell_type": "markdown",
   "id": "5010a722-8cbb-410e-848c-8082c1e21e70",
   "metadata": {},
   "source": [
    "# Polymorphism in Python\n",
    "\n",
    "## Introduction to Polymorphism\n",
    "Polymorphism is one of the core principles of Object-Oriented Programming (OOP). The term \"polymorphism\" comes from Greek, meaning \"many forms.\" In programming, polymorphism allows objects of different classes to be treated as objects of a common base class. This enables flexibility and extensibility in code design.\n",
    "\n",
    "### Key Features of Polymorphism\n",
    "1. **Method Overriding**: Subclasses provide specific implementations of methods defined in a parent class.\n",
    "2. **Dynamic Method Dispatch**: The method to be executed is determined at runtime based on the object's actual class.\n",
    "3. **Interface Consistency**: Different classes can implement the same interface, allowing them to be used interchangeably.\n",
    "\n",
    "In Python, polymorphism is achieved through:\n",
    "- **Duck Typing**: Objects are considered based on their behavior rather than their type.\n",
    "- **Method Overriding**: Subclasses redefine methods from their parent class.\n",
    "- **Abstract Base Classes (ABCs)**: Define a common interface for subclasses.\n",
    "\n",
    "---"
   ]
  },
  {
   "cell_type": "markdown",
   "id": "4fee4f07-66d3-444e-948d-8b0c9026dcf0",
   "metadata": {},
   "source": [
    "## Types of Polymorphism\n",
    "\n",
    "### 1. Compile-Time Polymorphism (Method Overloading)\n",
    "Python does not support traditional method overloading (as seen in languages like Java or C++). However, you can achieve similar functionality using default arguments or variable-length arguments.\n",
    "\n",
    "#### Example: Simulating Method Overloading"
   ]
  },
  {
   "cell_type": "code",
   "execution_count": 3,
   "id": "c617094a-a783-46ed-87da-64c31f8a9305",
   "metadata": {},
   "outputs": [
    {
     "name": "stdout",
     "output_type": "stream",
     "text": [
      "5\n",
      "15\n"
     ]
    }
   ],
   "source": [
    "class MathOperations:\n",
    "    def add(self, a, b=None):\n",
    "        if b is None:\n",
    "            return a\n",
    "        return a + b\n",
    "\n",
    "# Usage\n",
    "math_ops = MathOperations()\n",
    "print(math_ops.add(5))\n",
    "print(math_ops.add(5, 10))"
   ]
  },
  {
   "cell_type": "markdown",
   "id": "5a8c2867-a8f3-4ecf-8184-0ffadf243b89",
   "metadata": {},
   "source": [
    "### 2. Run-Time Polymorphism (Method Overriding)\n",
    "Run-time polymorphism occurs when a subclass overrides a method from its parent class. The method to execute is determined dynamically at runtime.\n",
    "\n",
    "#### Example: Payment Gateway System"
   ]
  },
  {
   "cell_type": "code",
   "execution_count": 8,
   "id": "86f24cb5-6ad3-49a0-a6da-bb33dd6f9622",
   "metadata": {},
   "outputs": [
    {
     "name": "stdout",
     "output_type": "stream",
     "text": [
      "Processing credit card payment of $100\n",
      "Processing PayPal payment of $100\n"
     ]
    }
   ],
   "source": [
    "from abc import ABC, abstractmethod\n",
    "\n",
    "class PaymentGateway(ABC):\n",
    "    @abstractmethod\n",
    "    def process_payment(self, amount):\n",
    "        pass\n",
    "\n",
    "class CreditCardPayment(PaymentGateway):\n",
    "    def process_payment(self, amount):\n",
    "        print(f\"Processing credit card payment of ${amount}\")\n",
    "\n",
    "class PayPalPayment(PaymentGateway):\n",
    "    def process_payment(self, amount):\n",
    "        print(f\"Processing PayPal payment of ${amount}\")\n",
    "\n",
    "# Usage\n",
    "payments = [CreditCardPayment(), PayPalPayment()]\n",
    "for payment in payments:\n",
    "    payment.process_payment(100)"
   ]
  },
  {
   "cell_type": "markdown",
   "id": "263692c8-51f8-4b43-aba7-fa9c4890f7f2",
   "metadata": {},
   "source": [
    "## Real-World Use Cases of Polymorphism\n",
    "### 1. Plugin Systems\n",
    "Polymorphism enables plugin architectures where different plugins adhere to a common interface."
   ]
  },
  {
   "cell_type": "code",
   "execution_count": 11,
   "id": "946c907f-eb1d-4f3e-9120-d4ad292a0a7d",
   "metadata": {},
   "outputs": [
    {
     "name": "stdout",
     "output_type": "stream",
     "text": [
      "Logging to file: System initialized\n",
      "Logging to console: System initialized\n"
     ]
    }
   ],
   "source": [
    "from abc import ABC, abstractmethod\n",
    "\n",
    "class Logger(ABC):\n",
    "    @abstractmethod\n",
    "    def log(self, message):\n",
    "        pass\n",
    "\n",
    "class FileLogger(Logger):\n",
    "    def log(self, message):\n",
    "        print(f\"Logging to file: {message}\")\n",
    "\n",
    "class ConsoleLogger(Logger):\n",
    "    def log(self, message):\n",
    "        print(f\"Logging to console: {message}\")\n",
    "\n",
    "def log_message(logger, message):\n",
    "    logger.log(message)\n",
    "\n",
    "# Usage\n",
    "loggers = [FileLogger(), ConsoleLogger()]\n",
    "for logger in loggers:\n",
    "    log_message(logger, \"System initialized\")"
   ]
  },
  {
   "cell_type": "markdown",
   "id": "0eae806d-ac27-4fef-bcae-b79899e5354c",
   "metadata": {},
   "source": [
    "### 3. Shape Hierarchy\n",
    "Polymorphism is commonly used in geometric systems to calculate areas and perimeters of different shapes.\n",
    "\n",
    "#### Example: Shape Calculations\n"
   ]
  },
  {
   "cell_type": "code",
   "execution_count": 13,
   "id": "a226cfa9-cb22-4757-8960-35bea24f8611",
   "metadata": {},
   "outputs": [
    {
     "name": "stdout",
     "output_type": "stream",
     "text": [
      "Area: 78.5, Perimeter: 31.400000000000002\n",
      "Area: 24, Perimeter: 20\n"
     ]
    }
   ],
   "source": [
    "from abc import ABC, abstractmethod\n",
    "\n",
    "class Shape(ABC):\n",
    "    @abstractmethod\n",
    "    def area(self):\n",
    "        pass\n",
    "\n",
    "    @abstractmethod\n",
    "    def perimeter(self):\n",
    "        pass\n",
    "\n",
    "class Circle(Shape):\n",
    "    def __init__(self, radius):\n",
    "        self.radius = radius\n",
    "\n",
    "    def area(self):\n",
    "        return 3.14 * self.radius ** 2\n",
    "\n",
    "    def perimeter(self):\n",
    "        return 2 * 3.14 * self.radius\n",
    "\n",
    "class Rectangle(Shape):\n",
    "    def __init__(self, length, width):\n",
    "        self.length = length\n",
    "        self.width = width\n",
    "\n",
    "    def area(self):\n",
    "        return self.length * self.width\n",
    "\n",
    "    def perimeter(self):\n",
    "        return 2 * (self.length + self.width)\n",
    "\n",
    "# Usage\n",
    "shapes = [Circle(5), Rectangle(4, 6)]\n",
    "for shape in shapes:\n",
    "    print(f\"Area: {shape.area()}, Perimeter: {shape.perimeter()}\")"
   ]
  },
  {
   "cell_type": "markdown",
   "id": "8575e22e-f4fe-4cf7-a3ca-667738dc30d9",
   "metadata": {},
   "source": [
    "## Duck Typing in Python\n",
    "Python uses duck typing, which means that the type or class of an object is less important than the methods and properties it defines. If an object behaves like a duck (e.g., it has a `quack` method), it is treated as a duck.\n",
    "\n",
    "#### Example: Duck Typing in Action"
   ]
  },
  {
   "cell_type": "code",
   "execution_count": 17,
   "id": "6e836cf8-b9da-40f4-9b47-9ec7d7d6b3cd",
   "metadata": {},
   "outputs": [
    {
     "name": "stdout",
     "output_type": "stream",
     "text": [
      "Quack!\n",
      "I'm pretending to be a duck!\n"
     ]
    }
   ],
   "source": [
    "class Duck:\n",
    "    def quack(self):\n",
    "        print(\"Quack!\")\n",
    "\n",
    "class Person:\n",
    "    def quack(self):\n",
    "        print(\"I'm pretending to be a duck!\")\n",
    "\n",
    "def make_it_quack(thing):\n",
    "    thing.quack()\n",
    "\n",
    "# Usage\n",
    "duck = Duck()\n",
    "person = Person()\n",
    "\n",
    "make_it_quack(duck)\n",
    "make_it_quack(person)"
   ]
  },
  {
   "cell_type": "markdown",
   "id": "1eda4674-46be-4b20-9952-ef0c7107e463",
   "metadata": {},
   "source": [
    "## Combining Polymorphism with Other OOP Principles\n",
    "\n",
    "### Example: Employee Management System\n",
    "This example combines polymorphism with inheritance and abstraction.\n"
   ]
  },
  {
   "cell_type": "code",
   "execution_count": 20,
   "id": "b5012159-4fb0-47e3-87a0-f1d153c8829b",
   "metadata": {},
   "outputs": [
    {
     "name": "stdout",
     "output_type": "stream",
     "text": [
      "Alice's bonus: $5000\n",
      "Bob's bonus: $10000\n"
     ]
    }
   ],
   "source": [
    "from abc import ABC, abstractmethod\n",
    "\n",
    "class Employee(ABC):\n",
    "    def __init__(self, name, employee_id):\n",
    "        self.name = name\n",
    "        self.employee_id = employee_id\n",
    "\n",
    "    @abstractmethod\n",
    "    def calculate_bonus(self):\n",
    "        pass\n",
    "\n",
    "class Developer(Employee):\n",
    "    def calculate_bonus(self):\n",
    "        return 5000\n",
    "\n",
    "class Manager(Employee):\n",
    "    def calculate_bonus(self):\n",
    "        return 10000\n",
    "\n",
    "def display_bonus(employee):\n",
    "    print(f\"{employee.name}'s bonus: ${employee.calculate_bonus()}\")\n",
    "\n",
    "# Usage\n",
    "employees = [Developer(\"Alice\", \"D123\"), Manager(\"Bob\", \"M456\")]\n",
    "for employee in employees:\n",
    "    display_bonus(employee)"
   ]
  }
 ],
 "metadata": {
  "kernelspec": {
   "display_name": "Python 3 (ipykernel)",
   "language": "python",
   "name": "python3"
  },
  "language_info": {
   "codemirror_mode": {
    "name": "ipython",
    "version": 3
   },
   "file_extension": ".py",
   "mimetype": "text/x-python",
   "name": "python",
   "nbconvert_exporter": "python",
   "pygments_lexer": "ipython3",
   "version": "3.13.1"
  }
 },
 "nbformat": 4,
 "nbformat_minor": 5
}
