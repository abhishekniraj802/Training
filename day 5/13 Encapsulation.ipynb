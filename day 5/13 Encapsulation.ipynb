{
 "cells": [
  {
   "cell_type": "markdown",
   "id": "45f5770a-1dbd-4519-92d7-87211188b98e",
   "metadata": {},
   "source": [
    "# Encapsulation in Python\n",
    "\n",
    "## Introduction to Encapsulation\n",
    "Encapsulation is one of the core principles of Object-Oriented Programming (OOP). It refers to the bundling of data (attributes) and methods (functions) that operate on the data into a single unit, typically a class. Encapsulation also involves restricting direct access to some of an object's components, which is achieved using access modifiers.\n",
    "\n",
    "### Key Features of Encapsulation\n",
    "1. **Data Hiding**: Protects sensitive data from unintended access or modification.\n",
    "2. **Controlled Access**: Provides controlled access to attributes through getter and setter methods.\n",
    "3. **Improved Modularity**: Encapsulates related data and behavior into a single entity, improving code organization.\n",
    "4. **Maintainability**: Changes to internal implementation details do not affect external code.\n",
    "\n",
    "In Python, encapsulation is implemented using:\n",
    "- **Access Modifiers**: Public, Protected, and Private members.\n",
    "- **Getter and Setter Methods**: Provide controlled access to private attributes.\n",
    "\n",
    "---\n",
    "\n",
    "## Access Modifiers in Python\n",
    "\n",
    "Python does not enforce strict access control like some other languages (e.g., Java or C++). Instead, it uses naming conventions to indicate the intended level of access:\n",
    "\n",
    "1. **Public Members**:\n",
    "   - Attributes and methods without any prefix are public.\n",
    "   - They can be accessed directly from outside the class.\n",
    "\n",
    "2. **Protected Members**:\n",
    "   - Attributes and methods prefixed with a single underscore (`_`) are considered protected.\n",
    "   - They indicate that the member should not be accessed directly but can still be accessed if needed.\n",
    "\n",
    "3. **Private Members**:\n",
    "   - Attributes and methods prefixed with double underscores (`__`) are private.\n",
    "   - They are name-mangled to prevent accidental access from outside the class.\n",
    "\n",
    "---\n",
    "\n",
    "## Code Examples of Encapsulation\n",
    "\n",
    "### Example 1: Bank Account System\n",
    "A bank account system demonstrates encapsulation by protecting sensitive data like balance and providing controlled access through methods."
   ]
  },
  {
   "cell_type": "code",
   "execution_count": 2,
   "id": "c7b29da2-1f8a-4719-b109-fd786c981b35",
   "metadata": {},
   "outputs": [
    {
     "name": "stdout",
     "output_type": "stream",
     "text": [
      "Deposited $500. New balance: $1500\n",
      "Withdrew $200. New balance: $1300\n",
      "Current Balance: $1300\n"
     ]
    }
   ],
   "source": [
    "class BankAccount:\n",
    "    def __init__(self, account_number, balance):\n",
    "        self.account_number = account_number  # Public attribute\n",
    "        self._balance = balance               # Protected attribute\n",
    "\n",
    "    def deposit(self, amount):\n",
    "        if amount > 0:\n",
    "            self._balance += amount\n",
    "            print(f\"Deposited ${amount}. New balance: ${self._balance}\")\n",
    "        else:\n",
    "            print(\"Deposit amount must be positive.\")\n",
    "\n",
    "    def withdraw(self, amount):\n",
    "        if 0 < amount <= self._balance:\n",
    "            self._balance -= amount\n",
    "            print(f\"Withdrew ${amount}. New balance: ${self._balance}\")\n",
    "        else:\n",
    "            print(\"Invalid withdrawal amount.\")\n",
    "\n",
    "    def get_balance(self):\n",
    "        return self._balance  # Controlled access to protected attribute\n",
    "\n",
    "# Usage\n",
    "account = BankAccount(\"12345\", 1000)\n",
    "account.deposit(500)\n",
    "account.withdraw(200)\n",
    "print(f\"Current Balance: ${account.get_balance()}\")"
   ]
  },
  {
   "cell_type": "markdown",
   "id": "7e35ce27-0314-4903-b65e-c7989d6b25e6",
   "metadata": {},
   "source": [
    "### Example 2: Employee Management System\n",
    "An employee management system uses encapsulation to protect sensitive data like salary.\n"
   ]
  },
  {
   "cell_type": "code",
   "execution_count": 2,
   "id": "2085e085-2554-4971-916a-33bae7f080da",
   "metadata": {},
   "outputs": [
    {
     "name": "stdout",
     "output_type": "stream",
     "text": [
      "Name: Alice, ID: E123, Salary: $50000\n",
      "Current Salary: $50000\n",
      "Salary updated to $60000\n",
      "Name: Alice, ID: E123, Salary: $60000\n"
     ]
    }
   ],
   "source": [
    "class Employee:\n",
    "    def __init__(self, name, employee_id, salary):\n",
    "        self.name = name                     # Public attribute\n",
    "        self.employee_id = employee_id       # Public attribute\n",
    "        self.__salary = salary               # Private attribute\n",
    "\n",
    "    def get_salary(self):\n",
    "        return self.__salary  # Getter method for private attribute\n",
    "\n",
    "    def set_salary(self, new_salary):\n",
    "        if new_salary > 0:\n",
    "            self.__salary = new_salary\n",
    "            print(f\"Salary updated to ${new_salary}\")\n",
    "        else:\n",
    "            print(\"Invalid salary amount.\")\n",
    "\n",
    "    def display_info(self):\n",
    "        print(f\"Name: {self.name}, ID: {self.employee_id}, Salary: ${self.__salary}\")\n",
    "\n",
    "# Usage\n",
    "employee = Employee(\"Alice\", \"E123\", 50000)\n",
    "employee.display_info()\n",
    "print(f\"Current Salary: ${employee.get_salary()}\")\n",
    "employee.set_salary(60000)\n",
    "employee.display_info()\n"
   ]
  },
  {
   "cell_type": "markdown",
   "id": "f825488b-cf09-4dd7-8f30-8f0cf3917713",
   "metadata": {},
   "source": [
    "## Real-World Use Cases of Encapsulation\n",
    "\n",
    "### 1. API Design\n",
    "Encapsulation ensures that internal implementation details of an API are hidden from users, exposing only necessary methods.\n",
    "\n",
    "#### Example: Database Connector"
   ]
  },
  {
   "cell_type": "code",
   "execution_count": 8,
   "id": "2adffa38-48ff-4708-8466-ec0d3abc2bab",
   "metadata": {},
   "outputs": [
    {
     "name": "stdout",
     "output_type": "stream",
     "text": [
      "Connecting to database at localhost:3306\n",
      "Connected successfully!\n",
      "Credentials: admin:secret\n"
     ]
    }
   ],
   "source": [
    "class DatabaseConnector:\n",
    "    def __init__(self, host, port, username, password):\n",
    "        self._host = host                  # Protected attribute\n",
    "        self._port = port                  # Protected attribute\n",
    "        self.__username = username         # Private attribute\n",
    "        self.__password = password         # Private attribute\n",
    "\n",
    "    def connect(self):\n",
    "        print(f\"Connecting to database at {self._host}:{self._port}\")\n",
    "        # Simulate connection logic\n",
    "        print(\"Connected successfully!\")\n",
    "\n",
    "    def _get_credentials(self):  # Protected method\n",
    "        return f\"{self.__username}:{self.__password}\"\n",
    "\n",
    "# Usage\n",
    "db = DatabaseConnector(\"localhost\", 3306, \"admin\", \"secret\")\n",
    "db.connect()\n",
    "print(f\"Credentials: {db._get_credentials()}\")  # Accessing protected method"
   ]
  },
  {
   "cell_type": "markdown",
   "id": "ad2e6f0a-c033-4bc2-b1e0-76760da449d3",
   "metadata": {},
   "source": [
    "### 2. Plugin Systems\n",
    "Encapsulation ensures that plugin implementations adhere to a consistent interface while hiding internal details.\n",
    "\n",
    "#### Example: Logging Plugins"
   ]
  },
  {
   "cell_type": "code",
   "execution_count": 10,
   "id": "ebae74bb-a657-484b-9048-23f42f0b9999",
   "metadata": {},
   "outputs": [
    {
     "name": "stdout",
     "output_type": "stream",
     "text": [
      "Logged to file: System initialized\n",
      "Logged to console: System initialized\n"
     ]
    }
   ],
   "source": [
    "from abc import ABC, abstractmethod\n",
    "\n",
    "class Logger(ABC):\n",
    "    @abstractmethod\n",
    "    def log(self, message):\n",
    "        pass\n",
    "\n",
    "class FileLogger(Logger):\n",
    "    def __init__(self, filename):\n",
    "        self.__filename = filename  # Private attribute\n",
    "\n",
    "    def log(self, message):\n",
    "        with open(self.__filename, \"a\") as file:\n",
    "            file.write(f\"{message}\\n\")\n",
    "        print(f\"Logged to file: {message}\")\n",
    "\n",
    "class ConsoleLogger(Logger):\n",
    "    def log(self, message):\n",
    "        print(f\"Logged to console: {message}\")\n",
    "\n",
    "# Usage\n",
    "loggers = [FileLogger(\"log.txt\"), ConsoleLogger()]\n",
    "for logger in loggers:\n",
    "    logger.log(\"System initialized\")"
   ]
  },
  {
   "cell_type": "markdown",
   "id": "140b681a-60e3-4b6d-9312-3f419c291f08",
   "metadata": {},
   "source": [
    "## Combining Encapsulation with Other OOP Principles\n",
    "\n",
    "### Example: Shape Hierarchy\n",
    "This example combines encapsulation with inheritance and polymorphism.\n"
   ]
  },
  {
   "cell_type": "code",
   "execution_count": 15,
   "id": "8de76295-fce7-424c-8970-500bd1f10164",
   "metadata": {},
   "outputs": [
    {
     "name": "stdout",
     "output_type": "stream",
     "text": [
      "Color: red, Area: 78.5\n",
      "Color: blue, Area: 24\n"
     ]
    }
   ],
   "source": [
    "from abc import ABC, abstractmethod\n",
    "\n",
    "class Shape(ABC):\n",
    "    def __init__(self, color):\n",
    "        self.__color = color  # Private attribute\n",
    "\n",
    "    def get_color(self):\n",
    "        return self.__color  # Getter method for private attribute\n",
    "\n",
    "    @abstractmethod\n",
    "    def area(self):\n",
    "        pass\n",
    "\n",
    "class Circle(Shape):\n",
    "    def __init__(self, color, radius):\n",
    "        super().__init__(color)\n",
    "        self.__radius = radius  # Private attribute\n",
    "\n",
    "    def area(self):\n",
    "        return 3.14 * self.__radius ** 2\n",
    "\n",
    "class Rectangle(Shape):\n",
    "    def __init__(self, color, length, width):\n",
    "        super().__init__(color)\n",
    "        self.__length = length  # Private attribute\n",
    "        self.__width = width    # Private attribute\n",
    "\n",
    "    def area(self):\n",
    "        return self.__length * self.__width\n",
    "\n",
    "# Usage\n",
    "shapes = [Circle(\"red\", 5), Rectangle(\"blue\", 4, 6)]\n",
    "for shape in shapes:\n",
    "    print(f\"Color: {shape.get_color()}, Area: {shape.area()}\")\n"
   ]
  },
  {
   "cell_type": "code",
   "execution_count": null,
   "id": "9aa46396-4c68-44d3-ba9e-f59d37771701",
   "metadata": {},
   "outputs": [],
   "source": []
  }
 ],
 "metadata": {
  "kernelspec": {
   "display_name": "Python 3 (ipykernel)",
   "language": "python",
   "name": "python3"
  },
  "language_info": {
   "codemirror_mode": {
    "name": "ipython",
    "version": 3
   },
   "file_extension": ".py",
   "mimetype": "text/x-python",
   "name": "python",
   "nbconvert_exporter": "python",
   "pygments_lexer": "ipython3",
   "version": "3.13.1"
  }
 },
 "nbformat": 4,
 "nbformat_minor": 5
}
