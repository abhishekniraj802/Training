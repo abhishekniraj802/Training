{
 "cells": [
  {
   "cell_type": "markdown",
   "id": "f0cc792d-05b7-4cee-9e78-093e9973ce57",
   "metadata": {},
   "source": [
    "# Abstraction in Python\n",
    "\n",
    "## Introduction to Abstraction\n",
    "Abstraction is one of the core principles of Object-Oriented Programming (OOP). It involves hiding the complex implementation details of a system and exposing only the essential features or behaviors. This allows developers to focus on \"what\" an object does rather than \"how\" it does it.\n",
    "\n",
    "In Python, abstraction is achieved using **abstract classes** and **interfaces**. These constructs define a blueprint for other classes, specifying what methods must be implemented without providing their implementation details."
   ]
  },
  {
   "cell_type": "markdown",
   "id": "b9084e28-7bfc-44bf-8be4-cc4a63b3239a",
   "metadata": {},
   "source": [
    "### Key Benefits of Abstraction\n",
    "1. **Simplification**: Reduces complexity by focusing on high-level functionality.\n",
    "2. **Reusability**: Encourages modular design, making code reusable across different parts of a system.\n",
    "3. **Maintainability**: Changes to the implementation details do not affect the abstract interface, ensuring stability.\n",
    "4. **Enforces Contracts**: Ensures that derived classes adhere to a specific structure.\n",
    "\n",
    "---"
   ]
  },
  {
   "cell_type": "markdown",
   "id": "7bfff34a-98ee-4c1d-beab-44f2a0da77ef",
   "metadata": {},
   "source": [
    "## Abstract Classes in Python\n",
    "Python provides the `abc` module (Abstract Base Classes) to define abstract classes. An abstract class cannot be instantiated directly and requires subclasses to implement its abstract methods.\n",
    "\n",
    "### Key Features of Abstract Classes\n",
    "1. **Abstract Methods**: Methods declared in the abstract class but without implementation.\n",
    "2. **Concrete Methods**: Methods with implementation that can be inherited by subclasses.\n",
    "3. **Decorator `@abstractmethod`**: Marks methods as abstract.\n",
    "\n",
    "#### Syntax for Defining Abstract Classes"
   ]
  },
  {
   "cell_type": "code",
   "execution_count": 5,
   "id": "48fc6283-526c-4956-af7d-9d18a9f3f7c2",
   "metadata": {},
   "outputs": [],
   "source": [
    "from abc import ABC, abstractmethod\n",
    "\n",
    "class AbstractClass(ABC):\n",
    "    @abstractmethod\n",
    "    def abstract_method(self):\n",
    "        pass  # No implementation here\n",
    "\n",
    "    def concrete_method(self):\n",
    "        print(\"This is a concrete method\")"
   ]
  },
  {
   "cell_type": "markdown",
   "id": "632fd50b-ff59-4343-a6c2-dfd07e5837a8",
   "metadata": {},
   "source": [
    "### Example 1: Payment Gateway System\n",
    "A payment gateway system can have multiple payment methods (e.g., Credit Card, PayPal). The abstract class defines the interface for all payment methods."
   ]
  },
  {
   "cell_type": "code",
   "execution_count": 8,
   "id": "ca53941a-291b-43aa-95b3-f1561163004c",
   "metadata": {},
   "outputs": [
    {
     "name": "stdout",
     "output_type": "stream",
     "text": [
      "Processing credit card payment of $100\n",
      "Processing PayPal payment of $50\n"
     ]
    }
   ],
   "source": [
    "from abc import ABC, abstractmethod\n",
    "\n",
    "class PaymentGateway(ABC):\n",
    "    @abstractmethod\n",
    "    def process_payment(self, amount):\n",
    "        pass  # Subclasses must implement this method\n",
    "\n",
    "class CreditCardPayment(PaymentGateway):\n",
    "    def process_payment(self, amount):\n",
    "        print(f\"Processing credit card payment of ${amount}\")\n",
    "\n",
    "class PayPalPayment(PaymentGateway):\n",
    "    def process_payment(self, amount):\n",
    "        print(f\"Processing PayPal payment of ${amount}\")\n",
    "\n",
    "# Usage\n",
    "credit_card = CreditCardPayment()\n",
    "credit_card.process_payment(100)\n",
    "\n",
    "paypal = PayPalPayment()\n",
    "paypal.process_payment(50)"
   ]
  },
  {
   "cell_type": "markdown",
   "id": "0b6eb209-7e8a-4544-a7b5-28b488dcb33e",
   "metadata": {},
   "source": [
    "### Example 2: Vehicle Hierarchy\n",
    "An abstract class can define the common interface for vehicles, while subclasses implement specific behavior."
   ]
  },
  {
   "cell_type": "code",
   "execution_count": 11,
   "id": "7e16f443-9ba0-43ff-97b8-2b79e31a6441",
   "metadata": {},
   "outputs": [
    {
     "name": "stdout",
     "output_type": "stream",
     "text": [
      "Car engine started\n",
      "Car engine stopped\n",
      "Motorcycle engine started\n",
      "Motorcycle engine stopped\n"
     ]
    }
   ],
   "source": [
    "from abc import ABC, abstractmethod\n",
    "\n",
    "class Vehicle(ABC):\n",
    "    @abstractmethod\n",
    "    def start_engine(self):\n",
    "        pass\n",
    "\n",
    "    @abstractmethod\n",
    "    def stop_engine(self):\n",
    "        pass\n",
    "\n",
    "class Car(Vehicle):\n",
    "    def start_engine(self):\n",
    "        print(\"Car engine started\")\n",
    "\n",
    "    def stop_engine(self):\n",
    "        print(\"Car engine stopped\")\n",
    "\n",
    "class Motorcycle(Vehicle):\n",
    "    def start_engine(self):\n",
    "        print(\"Motorcycle engine started\")\n",
    "\n",
    "    def stop_engine(self):\n",
    "        print(\"Motorcycle engine stopped\")\n",
    "\n",
    "# Usage\n",
    "car = Car()\n",
    "car.start_engine()\n",
    "car.stop_engine()\n",
    "\n",
    "motorcycle = Motorcycle()\n",
    "motorcycle.start_engine()\n",
    "motorcycle.stop_engine()"
   ]
  },
  {
   "cell_type": "markdown",
   "id": "b0e15f27-9594-4ef5-996b-40603f48a18b",
   "metadata": {},
   "source": [
    "## Real-World Use Cases of Abstraction\n",
    "\n",
    "### 1. API Design\n",
    "Abstract classes are often used to define interfaces for APIs, ensuring consistent behavior across implementations.\n",
    "\n",
    "#### Example: Database Connector"
   ]
  },
  {
   "cell_type": "code",
   "execution_count": 14,
   "id": "cdabf5b3-589e-4619-a968-cc3dc445f7ea",
   "metadata": {},
   "outputs": [
    {
     "name": "stdout",
     "output_type": "stream",
     "text": [
      "Connected to MySQL database\n",
      "Disconnected from MySQL database\n",
      "Connected to PostgreSQL database\n",
      "Disconnected from PostgreSQL database\n"
     ]
    }
   ],
   "source": [
    "from abc import ABC, abstractmethod\n",
    "\n",
    "class DatabaseConnector(ABC):\n",
    "    @abstractmethod\n",
    "    def connect(self):\n",
    "        pass\n",
    "\n",
    "    @abstractmethod\n",
    "    def disconnect(self):\n",
    "        pass\n",
    "\n",
    "class MySQLConnector(DatabaseConnector):\n",
    "    def connect(self):\n",
    "        print(\"Connected to MySQL database\")\n",
    "\n",
    "    def disconnect(self):\n",
    "        print(\"Disconnected from MySQL database\")\n",
    "\n",
    "class PostgreSQLConnector(DatabaseConnector):\n",
    "    def connect(self):\n",
    "        print(\"Connected to PostgreSQL database\")\n",
    "\n",
    "    def disconnect(self):\n",
    "        print(\"Disconnected from PostgreSQL database\")\n",
    "\n",
    "# Usage\n",
    "mysql = MySQLConnector()\n",
    "mysql.connect()\n",
    "mysql.disconnect()\n",
    "\n",
    "postgres = PostgreSQLConnector()\n",
    "postgres.connect()\n",
    "postgres.disconnect()"
   ]
  },
  {
   "cell_type": "markdown",
   "id": "1ac66ca8-8efc-4bc8-95d9-d644b1dda064",
   "metadata": {},
   "source": [
    "### 2. Plugin Systems\n",
    "Abstract classes can define the structure for plugins, ensuring all plugins adhere to a common interface.\n",
    "\n",
    "#### Example: Logging Plugins\n"
   ]
  },
  {
   "cell_type": "code",
   "execution_count": 16,
   "id": "0f4059b4-d87f-4f43-b4ec-f6f616152f9c",
   "metadata": {},
   "outputs": [
    {
     "name": "stdout",
     "output_type": "stream",
     "text": [
      "Logging to file: System initialized\n",
      "Logging to console: System initialized\n"
     ]
    }
   ],
   "source": [
    "from abc import ABC, abstractmethod\n",
    "\n",
    "class Logger(ABC):\n",
    "    @abstractmethod\n",
    "    def log(self, message):\n",
    "        pass\n",
    "\n",
    "class FileLogger(Logger):\n",
    "    def log(self, message):\n",
    "        print(f\"Logging to file: {message}\")\n",
    "\n",
    "class ConsoleLogger(Logger):\n",
    "    def log(self, message):\n",
    "        print(f\"Logging to console: {message}\")\n",
    "\n",
    "# Usage\n",
    "loggers = [FileLogger(), ConsoleLogger()]\n",
    "for logger in loggers:\n",
    "    logger.log(\"System initialized\")"
   ]
  },
  {
   "cell_type": "markdown",
   "id": "f2ee1a3d-2693-40f7-8675-1f40e9a0a468",
   "metadata": {},
   "source": [
    "## Combining Abstraction with Inheritance and Polymorphism\n",
    "Abstraction works seamlessly with inheritance and polymorphism to create flexible and extensible systems.\n",
    "\n",
    "#### Example: Shape Hierarchy"
   ]
  },
  {
   "cell_type": "code",
   "execution_count": 20,
   "id": "8165ad85-9d47-4a17-b598-5e77d3abb314",
   "metadata": {},
   "outputs": [
    {
     "name": "stdout",
     "output_type": "stream",
     "text": [
      "Area: 78.5, Perimeter: 31.400000000000002\n",
      "Area: 24, Perimeter: 20\n"
     ]
    }
   ],
   "source": [
    "from abc import ABC, abstractmethod\n",
    "\n",
    "class Shape(ABC):\n",
    "    @abstractmethod\n",
    "    def area(self):\n",
    "        pass\n",
    "\n",
    "    @abstractmethod\n",
    "    def perimeter(self):\n",
    "        pass\n",
    "\n",
    "class Circle(Shape):\n",
    "    def __init__(self, radius):\n",
    "        self.radius = radius\n",
    "\n",
    "    def area(self):\n",
    "        return 3.14 * self.radius ** 2\n",
    "\n",
    "    def perimeter(self):\n",
    "        return 2 * 3.14 * self.radius\n",
    "\n",
    "class Rectangle(Shape):\n",
    "    def __init__(self, length, width):\n",
    "        self.length = length\n",
    "        self.width = width\n",
    "\n",
    "    def area(self):\n",
    "        return self.length * self.width\n",
    "\n",
    "    def perimeter(self):\n",
    "        return 2 * (self.length + self.width)\n",
    "\n",
    "# Usage\n",
    "shapes = [Circle(5), Rectangle(4, 6)]\n",
    "for shape in shapes:\n",
    "    print(f\"Area: {shape.area()}, Perimeter: {shape.perimeter()}\")"
   ]
  }
 ],
 "metadata": {
  "kernelspec": {
   "display_name": "Python 3 (ipykernel)",
   "language": "python",
   "name": "python3"
  },
  "language_info": {
   "codemirror_mode": {
    "name": "ipython",
    "version": 3
   },
   "file_extension": ".py",
   "mimetype": "text/x-python",
   "name": "python",
   "nbconvert_exporter": "python",
   "pygments_lexer": "ipython3",
   "version": "3.13.1"
  }
 },
 "nbformat": 4,
 "nbformat_minor": 5
}
