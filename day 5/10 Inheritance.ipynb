{
 "cells": [
  {
   "cell_type": "markdown",
   "id": "2d434b38-f420-47f8-86f9-a0bcf6c58634",
   "metadata": {},
   "source": [
    "# Inheritance in Python\n",
    "\n",
    "## Introduction to Inheritance\n",
    "Inheritance is one of the core concepts of Object-Oriented Programming (OOP). It allows a class (called a **child** or **derived class**) to inherit attributes and methods from another class (called a **parent** or **base class**). This promotes code reusability, modularity, and scalability.\n",
    "\n",
    "In Python, inheritance is implemented using the syntax:"
   ]
  },
  {
   "cell_type": "markdown",
   "id": "cdd72058-bbdd-4412-b572-baf58b13e351",
   "metadata": {},
   "source": [
    "```python\n",
    "class ChildClass(ParentClass):\n",
    "    # Class body\n",
    "\n",
    "```"
   ]
  },
  {
   "cell_type": "markdown",
   "id": "7235ecf3-9129-41ed-9564-e4ba8aef1f9d",
   "metadata": {},
   "source": [
    "### Key Benefits of Inheritance\n",
    "1. **Code Reusability**: Common functionality can be defined in a parent class and reused in child classes.\n",
    "2. **Extensibility**: Child classes can extend or modify the behavior of the parent class.\n",
    "3. **Hierarchical Organization**: Classes can be organized into a logical hierarchy, making the codebase easier to understand and maintain."
   ]
  },
  {
   "cell_type": "markdown",
   "id": "456d1045-8558-4980-ad3b-2dc79bc662af",
   "metadata": {},
   "source": [
    "## Types of Inheritance in Python\n",
    "\n",
    "### 1. Single Inheritance\n",
    "A single child class inherits from a single parent class.\n",
    "\n",
    "#### Example: Employee Management System"
   ]
  },
  {
   "cell_type": "code",
   "execution_count": 16,
   "id": "8a076120-a2c0-4cc2-9b1b-9b9c33d00ae1",
   "metadata": {},
   "outputs": [
    {
     "name": "stdout",
     "output_type": "stream",
     "text": [
      "Employee Name: Alice, ID: M123\n",
      "Manages Department: Engineering\n"
     ]
    }
   ],
   "source": [
    "class Employee:\n",
    "    def __init__(self, name, employee_id):\n",
    "        self.name = name\n",
    "        self.employee_id = employee_id\n",
    "\n",
    "    def display_info(self):\n",
    "        print(f\"Employee Name: {self.name}, ID: {self.employee_id}\")\n",
    "\n",
    "class Manager(Employee):\n",
    "    def __init__(self, name, employee_id, department):\n",
    "        super().__init__(name, employee_id)\n",
    "        self.department = department\n",
    "\n",
    "    def display_info(self):\n",
    "        super().display_info()\n",
    "        print(f\"Manages Department: {self.department}\")\n",
    "\n",
    "\n",
    "\n",
    "\n",
    "manager = Manager(\"Alice\", \"M123\", \"Engineering\")\n",
    "manager.display_info()"
   ]
  },
  {
   "cell_type": "markdown",
   "id": "38ab450f-6211-49cd-b69e-d1537770ba48",
   "metadata": {},
   "source": [
    "### 2. Multilevel Inheritance\n",
    "A child class inherits from a parent class, which itself inherits from another class.\n",
    "\n",
    "#### Example: Vehicle Hierarchy"
   ]
  },
  {
   "cell_type": "code",
   "execution_count": 1,
   "id": "216bb94b-9caf-45db-81b9-49b555a16f42",
   "metadata": {},
   "outputs": [
    {
     "name": "stdout",
     "output_type": "stream",
     "text": [
      "Brand: Tesla\n",
      "Model: Model S\n",
      "Battery Capacity: 100 kWh\n"
     ]
    }
   ],
   "source": [
    "class Vehicle:\n",
    "    def __init__(self, brand):\n",
    "        self.brand = brand\n",
    "\n",
    "    def display_brand(self):\n",
    "        print(f\"Brand: {self.brand}\")\n",
    "\n",
    "class Car(Vehicle):\n",
    "    def __init__(self, brand, model):\n",
    "        self.brand=brand\n",
    "        super().__init__(brand)\n",
    "        self.model = model\n",
    "\n",
    "    def display_model(self):\n",
    "        print(f\"Model: {self.model}\")\n",
    "\n",
    "class ElectricCar(Car):\n",
    "    def __init__(self, brand, model, battery_capacity):\n",
    "        super().__init__(brand, model)\n",
    "        self.battery_capacity = battery_capacity\n",
    "\n",
    "    def display_battery(self):\n",
    "        print(f\"Battery Capacity: {self.battery_capacity} kWh\")\n",
    "\n",
    "\n",
    "tesla = ElectricCar(\"Tesla\", \"Model S\", 100)\n",
    "tesla.display_brand()\n",
    "tesla.display_model()\n",
    "tesla.display_battery()"
   ]
  },
  {
   "cell_type": "markdown",
   "id": "ec1860b6-aada-42e3-ba4b-99f7219ad72b",
   "metadata": {},
   "source": [
    "### 3. Multiple Inheritance\n",
    "A child class inherits from multiple parent classes.\n",
    "\n",
    "#### Example: Multi-Role User System"
   ]
  },
  {
   "cell_type": "code",
   "execution_count": 22,
   "id": "c8e1063a-c7d0-4c61-9009-c06c6a65daa1",
   "metadata": {},
   "outputs": [
    {
     "name": "stdout",
     "output_type": "stream",
     "text": [
      "Writing code in Python\n",
      "Testing software for bugs\n",
      "Deploying application to production\n"
     ]
    }
   ],
   "source": [
    "class Developer:\n",
    "    def __init__(self, programming_language):\n",
    "        self.programming_language = programming_language\n",
    "\n",
    "    def write_code(self):\n",
    "        print(f\"Writing code in {self.programming_language}\")\n",
    "\n",
    "class Tester:\n",
    "    def test_software(self):\n",
    "        print(\"Testing software for bugs\")\n",
    "\n",
    "class DevOps(Developer, Tester):\n",
    "    def deploy(self):\n",
    "        print(\"Deploying application to production\")\n",
    "\n",
    "# Usage\n",
    "devops = DevOps(\"Python\")\n",
    "devops.write_code()\n",
    "devops.test_software()\n",
    "devops.deploy()"
   ]
  },
  {
   "cell_type": "markdown",
   "id": "201762e8-14ff-4b03-8a9f-9f36be6f67e6",
   "metadata": {},
   "source": [
    "### 4. Hierarchical Inheritance\n",
    "Multiple child classes inherit from a single parent class.\n",
    "\n",
    "#### Example: Shape Hierarchy"
   ]
  },
  {
   "cell_type": "code",
   "execution_count": 25,
   "id": "42e41d55-6b54-47f2-9c9f-aa42dda502ea",
   "metadata": {},
   "outputs": [
    {
     "name": "stdout",
     "output_type": "stream",
     "text": [
      "This shape is red\n",
      "Circle Area: 78.5\n",
      "This shape is blue\n",
      "Rectangle Area: 24\n"
     ]
    }
   ],
   "source": [
    "class Shape:\n",
    "    def __init__(self, color):\n",
    "        self.color = color\n",
    "\n",
    "    def describe(self):\n",
    "        print(f\"This shape is {self.color}\")\n",
    "\n",
    "class Circle(Shape):\n",
    "    def calculate_area(self, radius):\n",
    "        return 3.14 * radius ** 2\n",
    "\n",
    "class Rectangle(Shape):\n",
    "    def calculate_area(self, length, width):\n",
    "        return length * width\n",
    "\n",
    "# Usage\n",
    "circle = Circle(\"red\")\n",
    "circle.describe()\n",
    "print(\"Circle Area:\", circle.calculate_area(5))\n",
    "\n",
    "rectangle = Rectangle(\"blue\")\n",
    "rectangle.describe()\n",
    "print(\"Rectangle Area:\", rectangle.calculate_area(4, 6))"
   ]
  },
  {
   "cell_type": "markdown",
   "id": "76ed65e7-f70e-42f6-b51b-3d06c670b75f",
   "metadata": {},
   "source": [
    "## Method Overriding and `super()`\n",
    "When a child class defines a method with the same name as a method in the parent class, it **overrides** the parent method. The `super()` function allows access to the overridden method in the parent class.\n",
    "\n",
    "#### Example: Customizing Behavior"
   ]
  },
  {
   "cell_type": "code",
   "execution_count": 28,
   "id": "2dc1f01e-f2be-451d-8d02-8c74c03cb4f5",
   "metadata": {},
   "outputs": [
    {
     "name": "stdout",
     "output_type": "stream",
     "text": [
      "Animal makes a sound\n",
      "Dog barks\n"
     ]
    }
   ],
   "source": [
    "class Animal:\n",
    "    def speak(self):\n",
    "        print(\"Animal makes a sound\")\n",
    "\n",
    "class Dog(Animal):\n",
    "    def speak(self):\n",
    "        super().speak()  # Call parent method\n",
    "        print(\"Dog barks\")\n",
    "\n",
    "# Usage\n",
    "dog = Dog()\n",
    "dog.speak()"
   ]
  },
  {
   "cell_type": "markdown",
   "id": "d0ac183a-98d5-4cb3-9e4b-110e36b48e13",
   "metadata": {},
   "source": [
    "## Real-World Use Cases of Inheritance\n",
    "\n",
    "### 1. GUI Frameworks\n",
    "In graphical user interface (GUI) frameworks like Tkinter or PyQt, inheritance is used to create custom widgets by extending base widget classes.\n",
    "\n",
    "#### Example: Custom Button in Tkinter"
   ]
  },
  {
   "cell_type": "code",
   "execution_count": 3,
   "id": "755ffdd1-3158-4574-a1dc-66fbd4cf0e83",
   "metadata": {},
   "outputs": [],
   "source": [
    "#pip install tk"
   ]
  },
  {
   "cell_type": "code",
   "execution_count": 1,
   "id": "74d65038-1549-43d5-b861-454c90555a71",
   "metadata": {},
   "outputs": [
    {
     "name": "stdout",
     "output_type": "stream",
     "text": [
      "Custom button clicked!\n",
      "Custom button clicked!\n",
      "Custom button clicked!\n",
      "Custom button clicked!\n",
      "Custom button clicked!\n",
      "Custom button clicked!\n",
      "Custom button clicked!\n",
      "Custom button clicked!\n",
      "Custom button clicked!\n",
      "Custom button clicked!\n",
      "Custom button clicked!\n",
      "Custom button clicked!\n",
      "Custom button clicked!\n",
      "Custom button clicked!\n",
      "Custom button clicked!\n",
      "Custom button clicked!\n"
     ]
    }
   ],
   "source": [
    "import tkinter as tk\n",
    "\n",
    "class CustomButton(tk.Button):\n",
    "    def __init__(self, master, text, command=None):\n",
    "        super().__init__(master, text=text, command=command, bg=\"lightblue\", fg=\"black\")\n",
    "\n",
    "    def on_click(self):\n",
    "        print(\"Custom button clicked!\")\n",
    "\n",
    "# Usage\n",
    "root = tk.Tk()\n",
    "button = CustomButton(root, text=\"Click Me\", command=lambda: button.on_click())\n",
    "button.pack()\n",
    "root.mainloop()"
   ]
  },
  {
   "cell_type": "markdown",
   "id": "be11fb8f-ba87-4ec4-8055-8ff240c293dd",
   "metadata": {},
   "source": [
    "### 2. Exception Handling\n",
    "Custom exceptions are often created by inheriting from Python's built-in `Exception` class.\n",
    "\n",
    "#### Example: Custom Exception"
   ]
  },
  {
   "cell_type": "code",
   "execution_count": 2,
   "id": "d6d0907c-3759-4fd8-9f47-4bcf65c1c6cc",
   "metadata": {},
   "outputs": [
    {
     "name": "stdout",
     "output_type": "stream",
     "text": [
      "Insufficient funds! Balance: 100, Attempted: 150\n"
     ]
    }
   ],
   "source": [
    "class InsufficientFundsError(Exception):\n",
    "    def __init__(self, balance, amount):\n",
    "        super().__init__(f\"Insufficient funds! Balance: {balance}, Attempted: {amount}\")\n",
    "        self.balance = balance\n",
    "        self.amount = amount\n",
    "\n",
    "def withdraw(balance, amount):\n",
    "    if amount > balance:\n",
    "        raise InsufficientFundsError(balance, amount)\n",
    "    return balance - amount\n",
    "\n",
    "# Usage\n",
    "try:\n",
    "    withdraw(100, 150)\n",
    "except InsufficientFundsError as e:\n",
    "    print(e)"
   ]
  },
  {
   "cell_type": "markdown",
   "id": "88ac7ab4-bb22-4fb3-99a0-438f335fd32b",
   "metadata": {},
   "source": [
    "### 3. Plugin Systems\n",
    "Inheritance is used to create plugin architectures where base classes define interfaces, and derived classes implement specific functionality.\n",
    "\n",
    "#### Example: Plugin Architecture"
   ]
  },
  {
   "cell_type": "code",
   "execution_count": 3,
   "id": "87ee0a2d-c095-4799-96d1-9e8bdc271402",
   "metadata": {},
   "outputs": [
    {
     "name": "stdout",
     "output_type": "stream",
     "text": [
      "Performing mathematical operations\n",
      "Handling file operations\n"
     ]
    }
   ],
   "source": [
    "class Plugin:\n",
    "    def execute(self):\n",
    "        raise NotImplementedError(\"Subclasses must implement this method\")\n",
    "\n",
    "class MathPlugin(Plugin):\n",
    "    def execute(self):\n",
    "        print(\"Performing mathematical operations\")\n",
    "\n",
    "class FilePlugin(Plugin):\n",
    "    def execute(self):\n",
    "        print(\"Handling file operations\")\n",
    "\n",
    "# Usage\n",
    "plugins = [MathPlugin(), FilePlugin()]\n",
    "for plugin in plugins:\n",
    "    plugin.execute()"
   ]
  },
  {
   "cell_type": "code",
   "execution_count": null,
   "id": "3e52c005-37f4-462e-b8ca-3cdbb73449c6",
   "metadata": {},
   "outputs": [],
   "source": []
  }
 ],
 "metadata": {
  "kernelspec": {
   "display_name": "Python 3 (ipykernel)",
   "language": "python",
   "name": "python3"
  },
  "language_info": {
   "codemirror_mode": {
    "name": "ipython",
    "version": 3
   },
   "file_extension": ".py",
   "mimetype": "text/x-python",
   "name": "python",
   "nbconvert_exporter": "python",
   "pygments_lexer": "ipython3",
   "version": "3.13.1"
  }
 },
 "nbformat": 4,
 "nbformat_minor": 5
}
