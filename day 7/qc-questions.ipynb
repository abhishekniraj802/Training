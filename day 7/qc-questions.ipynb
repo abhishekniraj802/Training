{
 "cells": [
  {
   "cell_type": "code",
   "execution_count": 1,
   "metadata": {},
   "outputs": [
    {
     "name": "stdout",
     "output_type": "stream",
     "text": [
      "[1, 2, 3, 4, 5, 6]\n"
     ]
    }
   ],
   "source": [
    "# task 1: Remove duplicates from the list\n",
    "A = [1, 1, 2, 3, 4, 5, 4, 6, 2]\n",
    "visited = set()\n",
    "ans = []\n",
    "for x in A:\n",
    "    if x not in visited:\n",
    "        ans.append(x)\n",
    "        visited.add(x)\n",
    "print(ans)"
   ]
  },
  {
   "cell_type": "code",
   "execution_count": 2,
   "metadata": {},
   "outputs": [
    {
     "name": "stdout",
     "output_type": "stream",
     "text": [
      "{1: 'a', 2: 'b', 3: 'c'}\n"
     ]
    }
   ],
   "source": [
    "# task 2: merge 2 dictionaries\n",
    "d1 = {1: 'a', 2: 'b'}\n",
    "d2 = {2: 'b', 3: 'c'}\n",
    "\n",
    "print({**d1, **d2})"
   ]
  },
  {
   "cell_type": "code",
   "execution_count": 3,
   "metadata": {},
   "outputs": [
    {
     "name": "stdout",
     "output_type": "stream",
     "text": [
      "sentence\n"
     ]
    }
   ],
   "source": [
    "# task 3: Longest words in the given sentence\n",
    "sentence = 'this is a random sentence for the task 3'\n",
    "\n",
    "ans = ''\n",
    "for x in sentence.split(' '):\n",
    "    if len(x) > len(ans):\n",
    "        ans = x\n",
    "print(ans)"
   ]
  },
  {
   "cell_type": "code",
   "execution_count": 7,
   "metadata": {},
   "outputs": [
    {
     "name": "stdout",
     "output_type": "stream",
     "text": [
      "yes, its a palindrome\n"
     ]
    }
   ],
   "source": [
    "# task 4: Check whether the string is palindrome or not\n",
    "s = 'malayalam'\n",
    "n = len(s)\n",
    "l, r = 0, n-1\n",
    "ans = True\n",
    "while l <= r:\n",
    "    if s[l].lower() != s[r].lower():\n",
    "        ans = False\n",
    "        break\n",
    "    l += 1\n",
    "    r -= 1\n",
    "print('yes, its a palindrome' if ans else 'no, its not a palindrome')"
   ]
  },
  {
   "cell_type": "code",
   "execution_count": 10,
   "metadata": {},
   "outputs": [
    {
     "name": "stdout",
     "output_type": "stream",
     "text": [
      "12\n"
     ]
    }
   ],
   "source": [
    "# task 5: add all odd indexes in a list\n",
    "A = [1, 2, 3, 4, 5, 6]\n",
    "ans = 0\n",
    "for i in range(len(A)):\n",
    "    if i % 2 != 0:\n",
    "        ans += A[i]\n",
    "print(ans)"
   ]
  },
  {
   "cell_type": "code",
   "execution_count": 13,
   "metadata": {},
   "outputs": [
    {
     "name": "stdout",
     "output_type": "stream",
     "text": [
      "[2, 3, 4, 1]\n"
     ]
    }
   ],
   "source": [
    "# task 6: print all common elements of two lists\n",
    "A = [1, 2, 3, 4, 5, 6]\n",
    "B = [2, 3, 7,  3, 4, 1]\n",
    "visited = set(A)\n",
    "added = set()\n",
    "common = []\n",
    "for x in B:\n",
    "    if x in visited and x not in added:\n",
    "        added.add(x)\n",
    "        common.append(x)\n",
    "print(common)"
   ]
  },
  {
   "cell_type": "code",
   "execution_count": 14,
   "metadata": {},
   "outputs": [
    {
     "name": "stdout",
     "output_type": "stream",
     "text": [
      "['C', 'H', 'K']\n"
     ]
    }
   ],
   "source": [
    "# task 7: return uppercase chars from a string\n",
    "s = 'Chris Harry K.'\n",
    "ans = []\n",
    "for x in s:\n",
    "    if x.isupper():\n",
    "        ans.append(x)\n",
    "print(ans)"
   ]
  },
  {
   "cell_type": "code",
   "execution_count": 16,
   "metadata": {},
   "outputs": [
    {
     "name": "stdout",
     "output_type": "stream",
     "text": [
      "hi this is harry!\n"
     ]
    }
   ],
   "source": [
    "# task 8: write a program to achieve abstraction\n",
    "from abc import ABC, abstractmethod\n",
    "class Human(ABC):\n",
    "    @abstractmethod\n",
    "    def speak(self):\n",
    "        pass\n",
    "class Harry(Human):\n",
    "    def speak(self):\n",
    "        print('hi this is harry!')\n",
    "harry = Harry()\n",
    "harry.speak()"
   ]
  },
  {
   "cell_type": "code",
   "execution_count": 20,
   "metadata": {},
   "outputs": [
    {
     "name": "stdout",
     "output_type": "stream",
     "text": [
      "k yrrah sirhc\n"
     ]
    }
   ],
   "source": [
    "# task 9: string reverse without using builtin functions\n",
    "s = 'chris harry k'\n",
    "s = list(s)\n",
    "n = len(s)\n",
    "for i in range(n // 2):\n",
    "    s[i], s[n-i-1] = s[n-i-1], s[i]\n",
    "print(''.join(s))"
   ]
  },
  {
   "cell_type": "code",
   "execution_count": 21,
   "metadata": {},
   "outputs": [
    {
     "name": "stdout",
     "output_type": "stream",
     "text": [
      "99999999\n"
     ]
    }
   ],
   "source": [
    "# task 10: find max number in a list without using builtin functions\n",
    "A = [1, 2, 3, 4, 123123, 1234344, 99999999, 23, -1, -213, 0]\n",
    "ans = float('-inf')\n",
    "for x in A:\n",
    "    if x > ans:\n",
    "        ans = x\n",
    "print(ans)"
   ]
  },
  {
   "cell_type": "code",
   "execution_count": 22,
   "metadata": {},
   "outputs": [
    {
     "name": "stdout",
     "output_type": "stream",
     "text": [
      "3\n"
     ]
    }
   ],
   "source": [
    "# task 11: write a program to count the num of uppercase letters found in the string\n",
    "s = 'Chris Harry K'\n",
    "ans = 0\n",
    "for x in s:\n",
    "    if x.isupper(): ans += 1\n",
    "print(ans)"
   ]
  },
  {
   "cell_type": "code",
   "execution_count": null,
   "metadata": {},
   "outputs": [
    {
     "name": "stdout",
     "output_type": "stream",
     "text": [
      "9\n"
     ]
    }
   ],
   "source": [
    "# task 12: second largest element in an array\n",
    "A = [1, 2, 3, 4, 5, 6, 7, 8, 9 ,10]\n",
    "a = b = float('-inf')\n",
    "for x in A:\n",
    "    if x > a:\n",
    "        b = a\n",
    "        a = x\n",
    "    elif x > b and x < a:\n",
    "        b = x\n",
    "print(b)"
   ]
  }
 ],
 "metadata": {
  "kernelspec": {
   "display_name": "Python 3",
   "language": "python",
   "name": "python3"
  },
  "language_info": {
   "codemirror_mode": {
    "name": "ipython",
    "version": 3
   },
   "file_extension": ".py",
   "mimetype": "text/x-python",
   "name": "python",
   "nbconvert_exporter": "python",
   "pygments_lexer": "ipython3",
   "version": "3.13.1"
  }
 },
 "nbformat": 4,
 "nbformat_minor": 2
}
