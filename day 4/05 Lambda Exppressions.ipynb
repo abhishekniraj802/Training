{
 "cells": [
  {
   "cell_type": "markdown",
   "id": "251a4a17-14ae-4f91-847c-fa0274107847",
   "metadata": {},
   "source": [
    "# Lambda Expressions"
   ]
  },
  {
   "cell_type": "code",
   "execution_count": 1,
   "id": "289346d5-bcf8-4e1d-baf9-499c64b41009",
   "metadata": {},
   "outputs": [
    {
     "data": {
      "text/plain": [
       "<function __main__.<lambda>(x)>"
      ]
     },
     "execution_count": 1,
     "metadata": {},
     "output_type": "execute_result"
    }
   ],
   "source": [
    "lambda x: x**2"
   ]
  },
  {
   "cell_type": "code",
   "execution_count": 3,
   "id": "bedd622b-009c-4f3d-bb77-0166f8d7b370",
   "metadata": {},
   "outputs": [
    {
     "data": {
      "text/plain": [
       "<function __main__.s()>"
      ]
     },
     "execution_count": 3,
     "metadata": {},
     "output_type": "execute_result"
    }
   ],
   "source": [
    "def s():\n",
    "    pass\n",
    "s"
   ]
  },
  {
   "cell_type": "markdown",
   "id": "1a846921-efeb-42f0-bda2-1dfca82f2e16",
   "metadata": {},
   "source": [
    "## Assigning to a Variable"
   ]
  },
  {
   "cell_type": "code",
   "execution_count": 10,
   "id": "f3e2e318-c33f-4f2a-9773-55eea7b60601",
   "metadata": {},
   "outputs": [
    {
     "name": "stdout",
     "output_type": "stream",
     "text": [
      "<class 'function'>\n",
      "9\n"
     ]
    }
   ],
   "source": [
    "func = lambda x: x**2\n",
    "print(type(func))\n",
    "print(func(3))"
   ]
  },
  {
   "cell_type": "markdown",
   "id": "82617fe3-3778-4f88-8271-4581dadebf3f",
   "metadata": {},
   "source": [
    "`We can specify arguments for lambdas just like we would for any function created using def, except for annotations:`"
   ]
  },
  {
   "cell_type": "code",
   "execution_count": 14,
   "id": "cf70d3d5-3491-46db-9eaa-1c25c5588694",
   "metadata": {},
   "outputs": [
    {
     "name": "stdout",
     "output_type": "stream",
     "text": [
      "(1, 2)\n",
      "(1, 10)\n"
     ]
    }
   ],
   "source": [
    "func_1 = lambda x, y=10: (x, y)\n",
    "print(func_1(1, 2))\n",
    "print(\n",
    "func_1(1))"
   ]
  },
  {
   "cell_type": "markdown",
   "id": "dc33ee26-9553-4e8d-815a-b5beec431aa5",
   "metadata": {},
   "source": [
    "We can even use * and **:"
   ]
  },
  {
   "cell_type": "code",
   "execution_count": 20,
   "id": "66c14881-453a-4be1-92ac-cdb22ee388d1",
   "metadata": {},
   "outputs": [
    {
     "data": {
      "text/plain": [
       "(1, 'a', 'b', 100, {'a': 10, 'b': 20})"
      ]
     },
     "execution_count": 20,
     "metadata": {},
     "output_type": "execute_result"
    }
   ],
   "source": [
    "func_2 = lambda x, *args, y, **kwargs: (x, *args, y, {**kwargs})\n",
    "func_2(1, 'a', 'b', y=100, a=10, b=20)"
   ]
  },
  {
   "cell_type": "markdown",
   "id": "b0dd6005-75a9-415b-b8a6-825ba3edd029",
   "metadata": {},
   "source": [
    "## Passing as an Argument\n",
    "Lambdas are functions, and can therefore be passed to any other function as an argument (or returned from another function)"
   ]
  },
  {
   "cell_type": "code",
   "execution_count": 24,
   "id": "040b632f-e748-4268-a370-a08c3c99d45a",
   "metadata": {},
   "outputs": [],
   "source": [
    "def apply_func(x, fn):\n",
    "    return fn(x)"
   ]
  },
  {
   "cell_type": "code",
   "execution_count": 26,
   "id": "fb947717-d1ee-4abc-ae59-00a2f470134b",
   "metadata": {},
   "outputs": [
    {
     "data": {
      "text/plain": [
       "9"
      ]
     },
     "execution_count": 26,
     "metadata": {},
     "output_type": "execute_result"
    }
   ],
   "source": [
    "apply_func(3, lambda x: x**2)"
   ]
  },
  {
   "cell_type": "code",
   "execution_count": 28,
   "id": "2f3f2c2d-ede1-473e-a242-d8a81d19f69f",
   "metadata": {},
   "outputs": [
    {
     "data": {
      "text/plain": [
       "27"
      ]
     },
     "execution_count": 28,
     "metadata": {},
     "output_type": "execute_result"
    }
   ],
   "source": [
    "apply_func(3, lambda x: x**3)"
   ]
  },
  {
   "cell_type": "markdown",
   "id": "49d7f49c-0ebe-4262-bcac-297347a25201",
   "metadata": {},
   "source": [
    "Of course we can make this even more generic:"
   ]
  },
  {
   "cell_type": "code",
   "execution_count": 31,
   "id": "49d28831-ad4b-455f-9c1a-9e06b26fed64",
   "metadata": {},
   "outputs": [],
   "source": [
    "def apply_func(fn, *args, **kwargs):\n",
    "    return fn(*args, **kwargs)"
   ]
  },
  {
   "cell_type": "code",
   "execution_count": 33,
   "id": "fab712d8-015c-4ce0-9839-1d80505f3e97",
   "metadata": {},
   "outputs": [
    {
     "data": {
      "text/plain": [
       "3"
      ]
     },
     "execution_count": 33,
     "metadata": {},
     "output_type": "execute_result"
    }
   ],
   "source": [
    "apply_func(lambda x, y: x+y, 1, 2)"
   ]
  },
  {
   "cell_type": "code",
   "execution_count": 35,
   "id": "9590890f-29bd-4ab4-8289-15030252ef5c",
   "metadata": {},
   "outputs": [
    {
     "data": {
      "text/plain": [
       "15"
      ]
     },
     "execution_count": 35,
     "metadata": {},
     "output_type": "execute_result"
    }
   ],
   "source": [
    "apply_func(lambda *args: sum(args), 1, 2, 3, 4, 5)"
   ]
  },
  {
   "cell_type": "markdown",
   "id": "946bb5a8-a7ed-47a1-bdf3-b3403e2841be",
   "metadata": {},
   "source": [
    "Of course, we don't have to use lambdas when calling apply_func, we can also pass in a function defined using a def statement:"
   ]
  },
  {
   "cell_type": "code",
   "execution_count": 38,
   "id": "6b85e443-c347-405b-9f27-4c860543bf37",
   "metadata": {},
   "outputs": [
    {
     "data": {
      "text/plain": [
       "'aaaaa'"
      ]
     },
     "execution_count": 38,
     "metadata": {},
     "output_type": "execute_result"
    }
   ],
   "source": [
    "def multiply(x, y):\n",
    "    return x * y\n",
    "\n",
    "apply_func(multiply, 'a', 5)"
   ]
  },
  {
   "cell_type": "code",
   "execution_count": 40,
   "id": "738a556e-53af-4991-a40c-e21f8cc36d10",
   "metadata": {},
   "outputs": [
    {
     "data": {
      "text/plain": [
       "'aaaaa'"
      ]
     },
     "execution_count": 40,
     "metadata": {},
     "output_type": "execute_result"
    }
   ],
   "source": [
    "apply_func(lambda x, y: x*y, 'a', 5)"
   ]
  },
  {
   "cell_type": "markdown",
   "id": "29f0b4f9-91f0-4944-9a9f-f0f83799e70f",
   "metadata": {},
   "source": [
    "# Lambdas and Sorting"
   ]
  },
  {
   "cell_type": "markdown",
   "id": "1690548a-f10b-4477-bb58-9883e5300a0e",
   "metadata": {},
   "source": [
    "\n",
    "Python has a built-in sorted method that can be used to sort any iterable. It will use the default ordering of the particular items, but sometimes you may want to (or need to) specify a different criteria for sorting.\n",
    "\n",
    "Let's start with a simple list:"
   ]
  },
  {
   "cell_type": "code",
   "execution_count": 44,
   "id": "0b9f5b0a-3043-4a54-a237-fe587e50ebbc",
   "metadata": {},
   "outputs": [
    {
     "data": {
      "text/plain": [
       "['B', 'D', 'a', 'c']"
      ]
     },
     "execution_count": 44,
     "metadata": {},
     "output_type": "execute_result"
    }
   ],
   "source": [
    "\n",
    "l = ['a', 'B', 'c', 'D']\n",
    "sorted(l)"
   ]
  },
  {
   "cell_type": "markdown",
   "id": "f163fd22-ddfa-43fe-af1b-a9ecb700b399",
   "metadata": {},
   "source": [
    "\n",
    "As you can see there is a difference between upper and lower-case characters when sorting strings.\n",
    "\n",
    "What if we wanted to make a case-insensitive sort?\n",
    "\n",
    "Python's **sorted** function has a keyword-only argument that allows us to modify the values that are used to sort the list."
   ]
  },
  {
   "cell_type": "code",
   "execution_count": 48,
   "id": "02543a99-ad4c-43ed-ad71-04b0ff9a7df2",
   "metadata": {},
   "outputs": [
    {
     "data": {
      "text/plain": [
       "['a', 'B', 'c', 'D']"
      ]
     },
     "execution_count": 48,
     "metadata": {},
     "output_type": "execute_result"
    }
   ],
   "source": [
    "sorted(l, key=str.upper)"
   ]
  },
  {
   "cell_type": "code",
   "execution_count": null,
   "id": "60782ec4-bbe4-4c5e-a23f-039adeed9ab8",
   "metadata": {},
   "outputs": [],
   "source": [
    "sorted(l, key = lambda s: s.upper())\n",
    "\n"
   ]
  },
  {
   "cell_type": "code",
   "execution_count": 50,
   "id": "23faef52-9778-4ca2-8096-d080146d7e0c",
   "metadata": {},
   "outputs": [
    {
     "data": {
      "text/plain": [
       "['abc', 'def', 'ghi']"
      ]
     },
     "execution_count": 50,
     "metadata": {},
     "output_type": "execute_result"
    }
   ],
   "source": [
    "d = {'def': 300, 'abc': 200, 'ghi': 100}\n",
    "sorted(d)"
   ]
  },
  {
   "cell_type": "markdown",
   "id": "6233dab4-1111-4de5-aadf-11104422f661",
   "metadata": {},
   "source": [
    "What happened here?\n",
    "\n",
    "Remember that iterating dictionaries actually iterates the keys - so we ended up with tyhe keys sorted alphabetically.\n",
    "\n",
    "What if we want to return the keys sorted by their associated value instead?"
   ]
  },
  {
   "cell_type": "code",
   "execution_count": 57,
   "id": "cc0d0437-18d6-4b8d-9a31-f7ada41f9d24",
   "metadata": {},
   "outputs": [
    {
     "data": {
      "text/plain": [
       "['def', 'abc', 'ghi']"
      ]
     },
     "execution_count": 57,
     "metadata": {},
     "output_type": "execute_result"
    }
   ],
   "source": [
    "sorted(d, key=lambda k: d[k], reverse=True)"
   ]
  },
  {
   "cell_type": "markdown",
   "id": "fcb37752-46ea-4363-b829-08c475dfac36",
   "metadata": {},
   "source": [
    "And here's another example where we want to sort a list of strings based on the last character of the string:"
   ]
  },
  {
   "cell_type": "code",
   "execution_count": 60,
   "id": "5b4ed832-d4b2-48ad-a2c9-6aa39f122f87",
   "metadata": {},
   "outputs": [
    {
     "data": {
      "text/plain": [
       "['Cleese', 'Idle', 'Gilliam', 'Palin', 'Chapman', 'Jones']"
      ]
     },
     "execution_count": 60,
     "metadata": {},
     "output_type": "execute_result"
    }
   ],
   "source": [
    "l = ['Cleese', 'Idle', 'Palin', 'Chapman', 'Gilliam', 'Jones']\n",
    "sorted(l, key=lambda s: s[-1])"
   ]
  },
  {
   "cell_type": "markdown",
   "id": "8aabd844-06fc-4972-98ad-dd4f427d8ba8",
   "metadata": {},
   "source": [
    "# Challenge: Randomizing an Iterable using Sorted"
   ]
  },
  {
   "cell_type": "code",
   "execution_count": 79,
   "id": "af26b2cc-94f3-47e6-aa2c-ade0488386ef",
   "metadata": {},
   "outputs": [
    {
     "name": "stdout",
     "output_type": "stream",
     "text": [
      "Help on built-in function sorted in module builtins:\n",
      "\n",
      "sorted(iterable, /, *, key=None, reverse=False)\n",
      "    Return a new list containing all items from the iterable in ascending order.\n",
      "\n",
      "    A custom key function can be supplied to customize the sort order, and the\n",
      "    reverse flag can be set to request the result in descending order.\n",
      "\n"
     ]
    }
   ],
   "source": [
    "help(sorted)"
   ]
  },
  {
   "cell_type": "markdown",
   "id": "c0af41d9-d3fb-407d-9b88-e04dd4293cea",
   "metadata": {},
   "source": [
    "-- What Does / Mean?\n",
    "- The / indicates that all parameters before it are positional-only.\n",
    "- This means iterable must be passed as a positional argument (not as a keyword argument)\n",
    "- The * indicates that all parameters after it must be keyword-only.\n",
    "This means key and reverse must be passed using keyword arguments."
   ]
  },
  {
   "cell_type": "code",
   "execution_count": 63,
   "id": "f8a23f3e-6fc6-4ac6-b074-4fc77bf5b507",
   "metadata": {},
   "outputs": [
    {
     "name": "stdout",
     "output_type": "stream",
     "text": [
      "Help on built-in function random:\n",
      "\n",
      "random() method of random.Random instance\n",
      "    random() -> x in the interval [0, 1).\n",
      "\n"
     ]
    }
   ],
   "source": [
    "import random\n",
    "help(random.random)"
   ]
  },
  {
   "cell_type": "code",
   "execution_count": 67,
   "id": "380263ad-cc4b-4c08-8562-c15368204d11",
   "metadata": {},
   "outputs": [
    {
     "data": {
      "text/plain": [
       "0.28497308437309155"
      ]
     },
     "execution_count": 67,
     "metadata": {},
     "output_type": "execute_result"
    }
   ],
   "source": [
    "random.random()"
   ]
  },
  {
   "cell_type": "code",
   "execution_count": 69,
   "id": "8f479d49-b1be-45ae-8f5c-1d4910c8bc9c",
   "metadata": {},
   "outputs": [],
   "source": [
    "l = [1, 2, 3, 4, 5, 6, 7, 8, 9, 10]"
   ]
  },
  {
   "cell_type": "code",
   "execution_count": 71,
   "id": "8b016048-2590-4ad2-873e-ffaadf663123",
   "metadata": {},
   "outputs": [
    {
     "data": {
      "text/plain": [
       "[3, 7, 6, 2, 4, 1, 10, 5, 8, 9]"
      ]
     },
     "execution_count": 71,
     "metadata": {},
     "output_type": "execute_result"
    }
   ],
   "source": [
    "randomized = sorted(l, key=lambda x: random.random())\n",
    "randomized"
   ]
  },
  {
   "cell_type": "code",
   "execution_count": 73,
   "id": "015c9095-7641-494e-817b-454d5872d3fd",
   "metadata": {},
   "outputs": [
    {
     "data": {
      "text/plain": [
       "['f', 'e', 'd', 'c', 'a', 'g', 'b']"
      ]
     },
     "execution_count": 73,
     "metadata": {},
     "output_type": "execute_result"
    }
   ],
   "source": [
    "sorted('abcdefg', key = lambda x: random.random())"
   ]
  },
  {
   "cell_type": "code",
   "execution_count": 77,
   "id": "4e7a42ee-7588-48c3-b216-eddf11e3cd0b",
   "metadata": {},
   "outputs": [
    {
     "data": {
      "text/plain": [
       "'bgdfeca'"
      ]
     },
     "execution_count": 77,
     "metadata": {},
     "output_type": "execute_result"
    }
   ],
   "source": [
    "''.join(sorted('abcdefg', key = lambda x: random.random()))"
   ]
  }
 ],
 "metadata": {
  "kernelspec": {
   "display_name": "Python 3 (ipykernel)",
   "language": "python",
   "name": "python3"
  },
  "language_info": {
   "codemirror_mode": {
    "name": "ipython",
    "version": 3
   },
   "file_extension": ".py",
   "mimetype": "text/x-python",
   "name": "python",
   "nbconvert_exporter": "python",
   "pygments_lexer": "ipython3",
   "version": "3.13.1"
  }
 },
 "nbformat": 4,
 "nbformat_minor": 5
}
