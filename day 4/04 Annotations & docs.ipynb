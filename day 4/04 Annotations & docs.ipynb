{
 "cells": [
  {
   "cell_type": "markdown",
   "id": "e9ebe5b5-fcce-4b0b-b3c6-4b00ad6222d8",
   "metadata": {},
   "source": [
    "# Type Hinting, Function Annotations, and Docstrings in Python"
   ]
  },
  {
   "cell_type": "markdown",
   "id": "620b9634-0cfa-4b95-8b32-db611068343e",
   "metadata": {},
   "source": [
    "Python is a dynamically typed language, meaning that variable types are inferred at runtime. While this flexibility is one of Python's strengths, it can also lead to ambiguity and errors, especially in large codebases or collaborative projects. To address this, Python introduced type hinting , function annotations , and docstrings as tools for improving code clarity, maintainability, and reliability.\n",
    "\n",
    "\n",
    "- Type Hinting : Adding type information to variables, function parameters, and return values.\n",
    "- Function Annotations : A formal syntax for annotating functions with metadata, including type hints.\n",
    "- Docstrings : Writing structured documentation for modules, classes, and functions."
   ]
  },
  {
   "cell_type": "markdown",
   "id": "6cc1c1ff-3135-48ed-a211-961c0d1ef3ad",
   "metadata": {},
   "source": [
    "## 1. Type Hinting\n",
    "Type hinting allows developers to specify the expected data types of variables, function arguments, and return values. This improves code readability and enables static analysis tools (e.g., `mypy`) to catch potential type-related errors before runtime.\n",
    "\n",
    "### Syntax\n",
    "- Variables: `variable_name: type`\n",
    "- Functions: `def function_name(param1: type, param2: type) -> return_type:`"
   ]
  },
  {
   "cell_type": "markdown",
   "id": "552507c9-6aea-47f6-8b3c-d81c95c9b2ee",
   "metadata": {},
   "source": [
    "### Example 1: Basic Type Hinting"
   ]
  },
  {
   "cell_type": "code",
   "execution_count": 9,
   "id": "9b29ccfe-5323-4363-918b-03125cc69dbe",
   "metadata": {},
   "outputs": [],
   "source": [
    "# Without type hints\n",
    "def add(a, b):\n",
    "    return a + b\n",
    "\n",
    "# With type hints\n",
    "def add(a: int, b: int) -> int:\n",
    "    return a + b"
   ]
  },
  {
   "cell_type": "markdown",
   "id": "421bf64d-9803-4408-ac64-547dd738f8b5",
   "metadata": {},
   "source": [
    "### Example 2: Using Built-in Types"
   ]
  },
  {
   "cell_type": "code",
   "execution_count": 14,
   "id": "ab31a3b7-56a4-4e86-8a5e-d78432561453",
   "metadata": {},
   "outputs": [
    {
     "name": "stdout",
     "output_type": "stream",
     "text": [
      "Hello, Mira!\n"
     ]
    }
   ],
   "source": [
    "def greet(name: str) -> str:\n",
    "    return f\"Hello, {name}!\"\n",
    "\n",
    "print(greet(\"Mira\"))"
   ]
  },
  {
   "cell_type": "markdown",
   "id": "103471df-32bf-4165-9f24-7d5c109494f2",
   "metadata": {},
   "source": [
    "### Example 3: Lists and Dictionaries"
   ]
  },
  {
   "cell_type": "code",
   "execution_count": 19,
   "id": "d94be741-1458-42c5-a768-a7d799c1b8dd",
   "metadata": {},
   "outputs": [],
   "source": [
    "from typing import List, Dict\n",
    "\n",
    "def process_items(items: List[int]) -> None:\n",
    "    for item in items:\n",
    "        print(item)\n",
    "\n",
    "def count_occurrences(data: Dict[str, int]) -> int:\n",
    "    return sum(data.values())"
   ]
  },
  {
   "cell_type": "markdown",
   "id": "01194c32-ec37-42b6-9be2-9487250c9bf1",
   "metadata": {},
   "source": [
    "### Real-Life Scenario: Data Validation in APIs"
   ]
  },
  {
   "cell_type": "code",
   "execution_count": 22,
   "id": "0245a454-ab45-4b9c-9890-5cc5e6e86ec4",
   "metadata": {},
   "outputs": [],
   "source": [
    "from typing import Optional\n",
    "\n",
    "def create_user(username: str, age: Optional[int] = None) -> dict:\n",
    "    return {\"username\": username, \"age\": age}"
   ]
  },
  {
   "cell_type": "code",
   "execution_count": 32,
   "id": "defcc78b-92ab-4a87-8d73-2f0d7618bef6",
   "metadata": {},
   "outputs": [
    {
     "name": "stdout",
     "output_type": "stream",
     "text": [
      "Help on function create_user in module __main__:\n",
      "\n",
      "create_user(username: str, age: Optional[int] = None) -> dict\n",
      "\n"
     ]
    }
   ],
   "source": [
    "help(create_user)"
   ]
  },
  {
   "cell_type": "markdown",
   "id": "7eb5c69e-7b1d-4177-b8ca-e79ba6814d5b",
   "metadata": {},
   "source": [
    "## 2. Annotations\n",
    "We can also add metadata annotations to a function's parameters and return. These metadata annotations can be any expression (string, type, function call, etc)"
   ]
  },
  {
   "cell_type": "code",
   "execution_count": 36,
   "id": "9b3b4042-59ed-4b3d-a75f-d2f412500908",
   "metadata": {},
   "outputs": [
    {
     "name": "stdout",
     "output_type": "stream",
     "text": [
      "{'a': 'First number', 'b': 'Second number', 'return': 'Product / the mul...'}\n"
     ]
    }
   ],
   "source": [
    "def multiply(a: \"First number\", b: \"Second number\") -> \"Product / the mul...\":\n",
    "    return a * b\n",
    "\n",
    "print(multiply.__annotations__)"
   ]
  },
  {
   "cell_type": "markdown",
   "id": "fd2d925e-5cfc-491e-8c15-7783f0bd080b",
   "metadata": {},
   "source": [
    "### Combining Type Hints and Descriptions"
   ]
  },
  {
   "cell_type": "code",
   "execution_count": 39,
   "id": "37df1149-5db0-447b-ad46-56e3b33581fa",
   "metadata": {},
   "outputs": [
    {
     "name": "stdout",
     "output_type": "stream",
     "text": [
      "{'a': <class 'float'>, 'b': <class 'float'>, 'return': <class 'float'>}\n"
     ]
    }
   ],
   "source": [
    "def divide(a: float, b: float) -> float:\n",
    "    \"\"\"Divides two numbers.\"\"\"\n",
    "    return a / b\n",
    "\n",
    "print(divide.__annotations__) "
   ]
  },
  {
   "cell_type": "code",
   "execution_count": null,
   "id": "673ae851-dcdb-4f48-9732-0296ce8d1dcd",
   "metadata": {},
   "outputs": [],
   "source": []
  },
  {
   "cell_type": "markdown",
   "id": "935f5542-8c7b-4efd-b818-71f8b107fd37",
   "metadata": {},
   "source": [
    "### Real-Life Scenario: Scientific Computing"
   ]
  },
  {
   "cell_type": "code",
   "execution_count": 44,
   "id": "b7a13390-7b63-40a0-b5c0-259e9a906d1e",
   "metadata": {},
   "outputs": [],
   "source": [
    "def calculate_area(length: \"in meters\", width: \"in meters\") -> \"area in square meters\":\n",
    "    return length * width"
   ]
  },
  {
   "cell_type": "markdown",
   "id": "fd0ba6b1-4b36-4554-a6c3-5110e6e2ad34",
   "metadata": {},
   "source": [
    "Note that these annotations do not force a type on the parameters or the return value - they are simply there for documentation purposes within Python and may be used by external applications and modules, such as IDE's.\n",
    "\n",
    "Just like docstrings are stored in the `__doc__` property, annotations are stored in the `__annotations__` property - a dictionary whose keys are the parameter names, and values are the annotation."
   ]
  },
  {
   "cell_type": "code",
   "execution_count": null,
   "id": "47a85046-2cae-4806-8f02-247a03a05192",
   "metadata": {},
   "outputs": [],
   "source": []
  },
  {
   "cell_type": "markdown",
   "id": "2725e3f9-6aa6-40e3-8cf5-bedb6b6ee5d2",
   "metadata": {},
   "source": [
    "## 3. Docstrings\n",
    "Docstrings provide a way to document modules, classes, and functions in a structured format. They are enclosed in triple quotes (`\"\"\"`) and appear immediately after the definition."
   ]
  },
  {
   "cell_type": "markdown",
   "id": "a0c1b59f-50e0-4e52-aca7-1502ce9b68b4",
   "metadata": {},
   "source": [
    "### Example 6: Module-Level Docstring"
   ]
  },
  {
   "cell_type": "code",
   "execution_count": 48,
   "id": "1e2675e8-d5e5-4f62-b6d4-a93e2a281cbf",
   "metadata": {},
   "outputs": [
    {
     "data": {
      "text/plain": [
       "'\\nThis module provides utility functions for mathematical operations.\\n'"
      ]
     },
     "execution_count": 48,
     "metadata": {},
     "output_type": "execute_result"
    }
   ],
   "source": [
    "\n",
    "\"\"\"\n",
    "This module provides utility functions for mathematical operations.\n",
    "\"\"\""
   ]
  },
  {
   "cell_type": "code",
   "execution_count": 53,
   "id": "b5ab9572-d3b8-46bd-8c84-c2df1c941702",
   "metadata": {},
   "outputs": [],
   "source": [
    "def fact(n: 'int >= 0')->int:\n",
    "    '''Calculates n! (factorial function)\n",
    "    \n",
    "    Inputs:\n",
    "        n: non-negative integer\n",
    "    Returns:\n",
    "        the factorial of n\n",
    "    '''\n",
    "    \n",
    "    if n < 0:\n",
    "        '''Note that this is not part of the docstring!'''\n",
    "        return 1\n",
    "    else:\n",
    "        return n * fact(n-1)"
   ]
  },
  {
   "cell_type": "code",
   "execution_count": 55,
   "id": "6eba2cc8-dd72-4500-b0a4-16007c7bafce",
   "metadata": {},
   "outputs": [
    {
     "name": "stdout",
     "output_type": "stream",
     "text": [
      "Help on function fact in module __main__:\n",
      "\n",
      "fact(n: 'int >= 0') -> int\n",
      "    Calculates n! (factorial function)\n",
      "\n",
      "    Inputs:\n",
      "        n: non-negative integer\n",
      "    Returns:\n",
      "        the factorial of n\n",
      "\n"
     ]
    }
   ],
   "source": [
    "help(fact)"
   ]
  },
  {
   "cell_type": "markdown",
   "id": "a8e2816c-cfc1-44b2-bfbd-108cadf519bf",
   "metadata": {},
   "source": [
    "Annotations will work with default parameters too: just specify the default after the annotation:"
   ]
  },
  {
   "cell_type": "markdown",
   "id": "ba19bd47-a506-44f8-942e-32e3eb24f8d7",
   "metadata": {},
   "source": [
    "### Example 7: Function-Level Docstring"
   ]
  },
  {
   "cell_type": "code",
   "execution_count": null,
   "id": "3a7db86a-f8db-4320-b096-c346059713a8",
   "metadata": {},
   "outputs": [],
   "source": [
    "def subtract(a: int, b: int) -> int:\n",
    "    \"\"\"\n",
    "    Subtracts two integers.\n",
    "\n",
    "    Args:\n",
    "        a (int): The minuend.\n",
    "        b (int): The subtrahend.\n",
    "\n",
    "    Returns:\n",
    "        int: The difference between a and b.\n",
    "    \"\"\"\n",
    "    return a - b"
   ]
  },
  {
   "cell_type": "markdown",
   "id": "24907462-e69a-4d99-a813-68ad4afeea9d",
   "metadata": {},
   "source": [
    "### Example 8: Class-Level Docstring"
   ]
  },
  {
   "cell_type": "code",
   "execution_count": null,
   "id": "76148315-5019-441f-9d01-9257259b9f5a",
   "metadata": {},
   "outputs": [],
   "source": [
    "class Rectangle:\n",
    "    \"\"\"\n",
    "    Represents a rectangle with a given length and width.\n",
    "\n",
    "    Attributes:\n",
    "        length (float): The length of the rectangle.\n",
    "        width (float): The width of the rectangle.\n",
    "    \"\"\"\n",
    "\n",
    "    def __init__(self, length: float, width: float):\n",
    "        self.length = length\n",
    "        self.width = width"
   ]
  },
  {
   "cell_type": "code",
   "execution_count": null,
   "id": "bf719ba5-ecae-4f68-9433-4351912e9361",
   "metadata": {},
   "outputs": [],
   "source": []
  },
  {
   "cell_type": "code",
   "execution_count": 58,
   "id": "6030b01a-fffc-4101-be81-b9d2f74df232",
   "metadata": {},
   "outputs": [],
   "source": [
    "def my_func(a:str='a', b:int=1)->str:\n",
    "    return a*b"
   ]
  },
  {
   "cell_type": "code",
   "execution_count": 60,
   "id": "a3d7428d-d8ac-459d-9978-5faa4d988ce7",
   "metadata": {},
   "outputs": [
    {
     "name": "stdout",
     "output_type": "stream",
     "text": [
      "Help on function my_func in module __main__:\n",
      "\n",
      "my_func(a: str = 'a', b: int = 1) -> str\n",
      "\n"
     ]
    }
   ],
   "source": [
    "\n",
    "help(my_func)"
   ]
  },
  {
   "cell_type": "code",
   "execution_count": 62,
   "id": "1dbaa9a6-fe83-4d9b-b6ba-928125d982d2",
   "metadata": {},
   "outputs": [
    {
     "data": {
      "text/plain": [
       "{'a': int, 'args': 'additional args'}"
      ]
     },
     "execution_count": 62,
     "metadata": {},
     "output_type": "execute_result"
    }
   ],
   "source": [
    "def my_func(a:int=0, *args:'additional args'):\n",
    "    print(a, args)\n",
    "\n",
    "\n",
    "\n",
    "my_func.__annotations__"
   ]
  },
  {
   "cell_type": "markdown",
   "id": "de119b80-fd20-45f3-8e4a-8de3e2714f6c",
   "metadata": {},
   "source": [
    "## Advanced Topics"
   ]
  },
  {
   "cell_type": "markdown",
   "id": "66d1a217-e76c-42dd-8471-b04523f20384",
   "metadata": {},
   "source": [
    "### Union Types"
   ]
  },
  {
   "cell_type": "code",
   "execution_count": 69,
   "id": "bfa319c7-7c35-404b-bf7c-89ec446222b7",
   "metadata": {},
   "outputs": [],
   "source": [
    "from typing import Union\n",
    "\n",
    "def parse_value(value: Union[int, str]) -> str:\n",
    "    if isinstance(value, int):\n",
    "        return str(value)\n",
    "    return value"
   ]
  },
  {
   "cell_type": "code",
   "execution_count": 71,
   "id": "a442a101-7824-4bbc-a3ee-68d9bc4fde1e",
   "metadata": {},
   "outputs": [
    {
     "name": "stdout",
     "output_type": "stream",
     "text": [
      "Help on _SpecialForm in module typing:\n",
      "\n",
      "Union = typing.Union\n",
      "    Union type; Union[X, Y] means either X or Y.\n",
      "\n",
      "    On Python 3.10 and higher, the | operator\n",
      "    can also be used to denote unions;\n",
      "    X | Y means the same thing to the type checker as Union[X, Y].\n",
      "\n",
      "    To define a union, use e.g. Union[int, str]. Details:\n",
      "    - The arguments must be types and there must be at least one.\n",
      "    - None as an argument is a special case and is replaced by\n",
      "      type(None).\n",
      "    - Unions of unions are flattened, e.g.::\n",
      "\n",
      "        assert Union[Union[int, str], float] == Union[int, str, float]\n",
      "\n",
      "    - Unions of a single argument vanish, e.g.::\n",
      "\n",
      "        assert Union[int] == int  # The constructor actually returns int\n",
      "\n",
      "    - Redundant arguments are skipped, e.g.::\n",
      "\n",
      "        assert Union[int, str, int] == Union[int, str]\n",
      "\n",
      "    - When comparing unions, the argument order is ignored, e.g.::\n",
      "\n",
      "        assert Union[int, str] == Union[str, int]\n",
      "\n",
      "    - You cannot subclass or instantiate a union.\n",
      "    - You can use Optional[X] as a shorthand for Union[X, None].\n",
      "\n"
     ]
    }
   ],
   "source": [
    "help(Union)"
   ]
  },
  {
   "cell_type": "markdown",
   "id": "fcbca533-1f25-4667-af24-46f4e74db9b0",
   "metadata": {},
   "source": [
    "### Real-Life Scenario: Database Queries\n",
    "In database-driven applications, type hints clarify query results:\n",
    "\n"
   ]
  },
  {
   "cell_type": "code",
   "execution_count": 74,
   "id": "13882dc5-87fe-4443-8147-4059b1206d49",
   "metadata": {},
   "outputs": [],
   "source": [
    "from typing import Tuple\n",
    "\n",
    "def fetch_record(record_id: int) -> Tuple[int, str]:\n",
    "    # Simulated database query\n",
    "    return record_id, \"Sample Record\""
   ]
  }
 ],
 "metadata": {
  "kernelspec": {
   "display_name": "Python 3 (ipykernel)",
   "language": "python",
   "name": "python3"
  },
  "language_info": {
   "codemirror_mode": {
    "name": "ipython",
    "version": 3
   },
   "file_extension": ".py",
   "mimetype": "text/x-python",
   "name": "python",
   "nbconvert_exporter": "python",
   "pygments_lexer": "ipython3",
   "version": "3.13.1"
  }
 },
 "nbformat": 4,
 "nbformat_minor": 5
}
