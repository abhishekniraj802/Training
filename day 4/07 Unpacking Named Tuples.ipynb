{
 "cells": [
  {
   "cell_type": "markdown",
   "id": "2331eefa-8239-4860-a393-cf70a79610e9",
   "metadata": {},
   "source": [
    "# Side note on Tuples"
   ]
  },
  {
   "cell_type": "code",
   "execution_count": 4,
   "id": "c1bdb726-ad9d-46c7-8254-fea87a982009",
   "metadata": {},
   "outputs": [
    {
     "data": {
      "text/plain": [
       "tuple"
      ]
     },
     "execution_count": 4,
     "metadata": {},
     "output_type": "execute_result"
    }
   ],
   "source": [
    "t = (1,2,3)\n",
    "type(t)"
   ]
  },
  {
   "cell_type": "code",
   "execution_count": 6,
   "id": "0c7cdd68-7e8c-419d-92d4-71c204dfc9e4",
   "metadata": {},
   "outputs": [
    {
     "data": {
      "text/plain": [
       "tuple"
      ]
     },
     "execution_count": 6,
     "metadata": {},
     "output_type": "execute_result"
    }
   ],
   "source": [
    "t = 1,2,3\n",
    "type(t)"
   ]
  },
  {
   "cell_type": "code",
   "execution_count": 8,
   "id": "9b56dfa1-32a2-40af-b213-6b1df66ceff7",
   "metadata": {},
   "outputs": [
    {
     "data": {
      "text/plain": [
       "int"
      ]
     },
     "execution_count": 8,
     "metadata": {},
     "output_type": "execute_result"
    }
   ],
   "source": [
    "t = (1)\n",
    "type(t)"
   ]
  },
  {
   "cell_type": "code",
   "execution_count": 10,
   "id": "04f92bbf-214e-45b6-a255-91841688bd95",
   "metadata": {},
   "outputs": [
    {
     "data": {
      "text/plain": [
       "tuple"
      ]
     },
     "execution_count": 10,
     "metadata": {},
     "output_type": "execute_result"
    }
   ],
   "source": [
    "t = 1,\n",
    "type(t)"
   ]
  },
  {
   "cell_type": "markdown",
   "id": "e261ff67-fcc4-4c0c-a66a-1e83c4f79f9f",
   "metadata": {},
   "source": [
    "## Empty Tuple"
   ]
  },
  {
   "cell_type": "code",
   "execution_count": 13,
   "id": "b1070def-24f2-486f-ab98-efd5ef995b50",
   "metadata": {},
   "outputs": [
    {
     "data": {
      "text/plain": [
       "tuple"
      ]
     },
     "execution_count": 13,
     "metadata": {},
     "output_type": "execute_result"
    }
   ],
   "source": [
    "# The only exception is to create an empty tuple:\n",
    "a = ()\n",
    "type(a)"
   ]
  },
  {
   "cell_type": "code",
   "execution_count": 15,
   "id": "b3e06626-cd36-4081-ae05-139bb0ec3e35",
   "metadata": {},
   "outputs": [
    {
     "data": {
      "text/plain": [
       "tuple"
      ]
     },
     "execution_count": 15,
     "metadata": {},
     "output_type": "execute_result"
    }
   ],
   "source": [
    "# Or we can use the tuple constructor:\n",
    "a = tuple()\n",
    "type(a)"
   ]
  },
  {
   "cell_type": "markdown",
   "id": "ff0da441-04c6-463c-b0ac-8e74e75ecd2f",
   "metadata": {},
   "source": [
    "## Unpacking\n",
    "Unpacking is a way to split an iterable object into individual variables contained in a list or tuple:"
   ]
  },
  {
   "cell_type": "code",
   "execution_count": 18,
   "id": "bb18f266-cfca-490c-b193-12bbc5fab8c7",
   "metadata": {},
   "outputs": [
    {
     "name": "stdout",
     "output_type": "stream",
     "text": [
      "1 2 3 4\n"
     ]
    }
   ],
   "source": [
    "l = [1, 2, 3, 4]\n",
    "a, b, c, d = l\n",
    "\n",
    "print(a, b, c, d)"
   ]
  },
  {
   "cell_type": "code",
   "execution_count": 20,
   "id": "5b8ec81a-3ee5-410f-8eb5-748e5bcd0a2c",
   "metadata": {},
   "outputs": [
    {
     "name": "stdout",
     "output_type": "stream",
     "text": [
      "X Y Z\n"
     ]
    }
   ],
   "source": [
    "# Strings are iterables too:\n",
    "a, b, c = 'XYZ'\n",
    "print(a, b, c)\n"
   ]
  },
  {
   "cell_type": "markdown",
   "id": "05595f4e-2bca-4424-adba-1934f7793423",
   "metadata": {},
   "source": [
    "## Unpacking Unordered Objects"
   ]
  },
  {
   "cell_type": "code",
   "execution_count": 23,
   "id": "6db156e7-adcf-4c7d-bf88-9fa9fe8d7038",
   "metadata": {},
   "outputs": [
    {
     "data": {
      "text/plain": [
       "{'p': 1, 'y': 2, 't': 3, 'h': 4, 'o': 5, 'n': 6}"
      ]
     },
     "execution_count": 23,
     "metadata": {},
     "output_type": "execute_result"
    }
   ],
   "source": [
    "dict1 = {'p': 1, 'y': 2, 't': 3, 'h': 4, 'o': 5, 'n': 6}\n",
    "dict1"
   ]
  },
  {
   "cell_type": "code",
   "execution_count": 29,
   "id": "6926418f-d582-4c6c-8402-ba1d27889c65",
   "metadata": {},
   "outputs": [
    {
     "name": "stdout",
     "output_type": "stream",
     "text": [
      "p\n",
      "y\n",
      "t\n",
      "h\n",
      "o\n",
      "n\n"
     ]
    }
   ],
   "source": [
    "dict1 = {'p': 1, 'y': 2, 't': 3, 'h': 4, 'o': 5, 'n': 6}\n",
    "\n",
    "#By default, iterating over a dictionary in Python iterates over its keys (not values).\n",
    "for c in dict1:\n",
    "    print(c)"
   ]
  },
  {
   "cell_type": "code",
   "execution_count": 38,
   "id": "eb5f91c8-01a9-4206-903a-72db0171ce4f",
   "metadata": {},
   "outputs": [
    {
     "name": "stdout",
     "output_type": "stream",
     "text": [
      "p\n",
      "y\n",
      "t\n",
      "h\n",
      "o\n",
      "n\n"
     ]
    }
   ],
   "source": [
    "dict1 = {'p': 1, 'y': 2, 't': 3, 'h': 4, 'o': 5, 'n': 6}\n",
    "a, b, c, d, e, f = dict1\n",
    "print(a)\n",
    "print(b)\n",
    "print(c)\n",
    "print(d)\n",
    "print(e)\n",
    "print(f)\n",
    "\n",
    "\n",
    "# dictionaries in Python 3.7+ maintain insertion order by default, this will work as expected, and the variables a, b, c, d, e, f will get the keys in the same order as inserted."
   ]
  },
  {
   "cell_type": "markdown",
   "id": "d41074ec-4ded-4843-9c49-c0e4fc2b27ab",
   "metadata": {},
   "source": [
    "### Passing a Dictionary to a Function"
   ]
  },
  {
   "cell_type": "code",
   "execution_count": 32,
   "id": "1dca0644-3702-4d19-8d42-acad3078a213",
   "metadata": {},
   "outputs": [
    {
     "name": "stdout",
     "output_type": "stream",
     "text": [
      "Hello, my name is Alice and I am 25 years old.\n"
     ]
    }
   ],
   "source": [
    "def greet(name, age):\n",
    "    print(f\"Hello, my name is {name} and I am {age} years old.\")\n",
    "\n",
    "person = {'name': 'Alice', 'age': 25}\n",
    "\n",
    "# Unpacking dictionary into function arguments\n",
    "greet(**person)\n"
   ]
  },
  {
   "cell_type": "markdown",
   "id": "086ec2d3-fafd-4985-8b3b-1e8b3ab202e7",
   "metadata": {},
   "source": [
    "### Merging Two Dictionaries"
   ]
  },
  {
   "cell_type": "code",
   "execution_count": null,
   "id": "e08fdd30-6047-43e3-86d1-1cdd697cfe8f",
   "metadata": {},
   "outputs": [],
   "source": [
    "dict1 = {'a': 1, 'b': 2}\n",
    "dict2 = {'c': 3, 'd': 4}\n",
    "\n",
    "merged_dict = {**dict1, **dict2}\n",
    "print(merged_dict)\n"
   ]
  },
  {
   "cell_type": "markdown",
   "id": "eb0e7bfa-c335-4738-9e58-8959e5892c6b",
   "metadata": {},
   "source": [
    "### Passing Configurations to Functions (Keyword Arguments)"
   ]
  },
  {
   "cell_type": "code",
   "execution_count": null,
   "id": "a493f5d7-00bd-4d5c-97f6-0ddfaf9f970b",
   "metadata": {},
   "outputs": [],
   "source": [
    "def connect_db(host, user, password, database):\n",
    "    print(f\"Connecting to {database} at {host} as {user}\")\n",
    "\n",
    "config = {\n",
    "    'host': 'localhost',\n",
    "    'user': 'admin',\n",
    "    'password': 'secure123',\n",
    "    'database': 'my_db'\n",
    "}\n",
    "\n",
    "# Unpacking dictionary\n",
    "connect_db(**config)\n"
   ]
  },
  {
   "cell_type": "code",
   "execution_count": 40,
   "id": "d19de0e8-b464-49e8-8196-3932f9f04c54",
   "metadata": {},
   "outputs": [],
   "source": [
    "### Similar for sets"
   ]
  },
  {
   "cell_type": "markdown",
   "id": "76a9fc90-dc18-40d1-9f41-154c43a46218",
   "metadata": {},
   "source": [
    "## Extended Unpacking\n",
    "Let's see how we might split a list into it's first element, and \"everything else\" using slicing:"
   ]
  },
  {
   "cell_type": "code",
   "execution_count": 42,
   "id": "650df1e7-2f3a-4779-a5e4-568ae4fb8799",
   "metadata": {},
   "outputs": [],
   "source": [
    "l = [1, 2, 3, 4, 5, 6]"
   ]
  },
  {
   "cell_type": "code",
   "execution_count": 45,
   "id": "4786d672-4bde-4d5a-97fb-525a451a3e2f",
   "metadata": {},
   "outputs": [
    {
     "name": "stdout",
     "output_type": "stream",
     "text": [
      "1\n",
      "[2, 3, 4, 5, 6]\n"
     ]
    }
   ],
   "source": [
    "a = l[0]\n",
    "b = l[1:]\n",
    "print(a)\n",
    "print(b)"
   ]
  },
  {
   "cell_type": "code",
   "execution_count": 47,
   "id": "32aaba3b-1954-4612-acf9-be88be5508e4",
   "metadata": {},
   "outputs": [
    {
     "name": "stdout",
     "output_type": "stream",
     "text": [
      "1\n",
      "[2, 3, 4, 5, 6]\n"
     ]
    }
   ],
   "source": [
    "\n",
    "# We can even use unpacking to simplify this slightly:\n",
    "\n",
    "a, b = l[0], l[1:]\n",
    "print(a)\n",
    "print(b)"
   ]
  },
  {
   "cell_type": "code",
   "execution_count": 49,
   "id": "660e93e6-801a-4841-8eab-b92ad5ea3865",
   "metadata": {},
   "outputs": [
    {
     "name": "stdout",
     "output_type": "stream",
     "text": [
      "1\n",
      "[2, 3, 4, 5, 6]\n"
     ]
    }
   ],
   "source": [
    "# But we can use the * operator to achieve the same result:\n",
    "\n",
    "a, *b = l\n",
    "print(a)\n",
    "print(b)"
   ]
  },
  {
   "cell_type": "markdown",
   "id": "ea72a73a-b89b-4ad2-9b47-8efbc1cefec4",
   "metadata": {},
   "source": [
    "Note that the * operator can only appear **once!**\n",
    "\n",
    "Like standard unpacking, this extended unpacking will work with any iterable.\n",
    "\n",
    "With tuples:"
   ]
  },
  {
   "cell_type": "code",
   "execution_count": 53,
   "id": "490222e2-e450-48a5-ba72-03473fa95c43",
   "metadata": {},
   "outputs": [
    {
     "name": "stdout",
     "output_type": "stream",
     "text": [
      "-10\n",
      "[5, 2, 100]\n"
     ]
    }
   ],
   "source": [
    "a, *b = -10, 5, 2, 100\n",
    "print(a)\n",
    "print(b)"
   ]
  },
  {
   "cell_type": "code",
   "execution_count": 55,
   "id": "de0f4f1a-f6e0-432e-8c02-c7481d52c507",
   "metadata": {},
   "outputs": [
    {
     "name": "stdout",
     "output_type": "stream",
     "text": [
      "p\n",
      "['y', 't', 'h', 'o', 'n']\n"
     ]
    }
   ],
   "source": [
    "a, *b = 'python'\n",
    "print(a)\n",
    "print(b)"
   ]
  },
  {
   "cell_type": "markdown",
   "id": "ddf54775-307d-45f6-b9d4-7c8377c973b3",
   "metadata": {},
   "source": [
    "What about extracting the first, second, last elements and the rest.\n",
    "\n",
    "Again we can use slicing:"
   ]
  },
  {
   "cell_type": "code",
   "execution_count": 58,
   "id": "6934c90c-b03e-4817-86b8-7c030d06c1d6",
   "metadata": {},
   "outputs": [
    {
     "name": "stdout",
     "output_type": "stream",
     "text": [
      "p\n",
      "y\n",
      "tho\n",
      "n\n"
     ]
    }
   ],
   "source": [
    "s = 'python'\n",
    "\n",
    "a, b, c, d = s[0], s[1], s[2:-1], s[-1]\n",
    "print(a)\n",
    "print(b)\n",
    "print(c)\n",
    "print(d)"
   ]
  },
  {
   "cell_type": "code",
   "execution_count": 60,
   "id": "ae3111b4-aff2-48f6-a0c3-7b289446a259",
   "metadata": {},
   "outputs": [
    {
     "name": "stdout",
     "output_type": "stream",
     "text": [
      "p\n",
      "y\n",
      "['t', 'h', 'o']\n",
      "n\n"
     ]
    }
   ],
   "source": [
    "# But we can just as easily do it this way using unpacking:\n",
    "a, b, *c, d = s\n",
    "print(a)\n",
    "print(b)\n",
    "print(c)\n",
    "print(d)"
   ]
  },
  {
   "cell_type": "markdown",
   "id": "ca2a77cd-93af-4552-9b76-33ad71bd90d8",
   "metadata": {},
   "source": [
    "\n",
    "As you can see though, c is a list of characters, not a string.\n",
    "\n",
    "It that's a problem we can easily fix it this way:"
   ]
  },
  {
   "cell_type": "code",
   "execution_count": null,
   "id": "310ea8e5-c584-4668-8716-d18fa095fff0",
   "metadata": {},
   "outputs": [],
   "source": [
    "print(c)\n",
    "c = ''.join(c)\n",
    "print(c)"
   ]
  },
  {
   "cell_type": "markdown",
   "id": "98d7ba1e-8c2f-4f49-9c09-363fb8e7a503",
   "metadata": {},
   "source": [
    "# Named Tuples"
   ]
  },
  {
   "cell_type": "markdown",
   "id": "f7d1a4a8-91ca-4771-8564-445326e103fb",
   "metadata": {},
   "source": [
    "Named tuples are an elegant extension of the built-in tuple data type that allow us to create simple, immutable data structures with named fields. They bridge the gap between simple tuples and full-fledged classes, providing a lightweight yet readable way to organize related data."
   ]
  },
  {
   "cell_type": "markdown",
   "id": "1c76246d-746d-456a-bccc-3a428176966b",
   "metadata": {},
   "source": [
    "Named tuples were introduced in Python 2.6 as part of the collections module and have remained a useful tool in Python's data structure toolkit ever since."
   ]
  },
  {
   "cell_type": "markdown",
   "id": "642bb752-0eb6-40e2-84ea-b88e976c2181",
   "metadata": {},
   "source": [
    "Basic Concepts\n",
    "What Are Named Tuples?\n",
    "Named tuples are essentially regular tuples with two key enhancements:\n",
    "\n",
    "Fields can be accessed by name (as attributes) rather than just by position\n",
    "They are self-documenting through meaningful field names\n",
    "\n",
    "Let's start with a simple example to illustrate the difference:"
   ]
  },
  {
   "cell_type": "code",
   "execution_count": 70,
   "id": "fa3e03c7-8623-4015-b79e-485b882ab858",
   "metadata": {},
   "outputs": [],
   "source": [
    "# Regular tuple\n",
    "point_tuple = (3, 4)\n",
    "x = point_tuple[0]  # Access by index\n",
    "y = point_tuple[1]\n",
    "\n",
    "# Named tuple\n",
    "from collections import namedtuple\n",
    "Point = namedtuple('Point', ['x', 'y'])\n",
    "point = Point(3, 4)\n",
    "x = point.x        # Access by name\n",
    "y = point.y        # More readable!"
   ]
  },
  {
   "cell_type": "markdown",
   "id": "b4e4929f-ac6d-4bbe-ba2f-10637d0beb03",
   "metadata": {},
   "source": [
    "## Creating Named Tuples\n",
    "There are several ways to create named tuples:"
   ]
  },
  {
   "cell_type": "code",
   "execution_count": 76,
   "id": "c4041e8d-17ac-4d06-941d-add8cf67fcd6",
   "metadata": {},
   "outputs": [],
   "source": [
    "from collections import namedtuple\n",
    "\n",
    "# Method 1: List of strings\n",
    "Person = namedtuple('Person', ['name', 'age', 'height'])\n",
    "\n",
    "# Method 2: Space-separated string\n",
    "Person = namedtuple('Person', 'name age height')\n",
    "\n",
    "# Method 3: Comma-separated string\n",
    "Person = namedtuple('Person', 'name, age, height')\n",
    "\n",
    "# Creating an instance\n",
    "john = Person('John Doe', 30, 175)"
   ]
  },
  {
   "cell_type": "markdown",
   "id": "6fa532ce-e31a-44b0-a200-d00b7ac9dd9b",
   "metadata": {},
   "source": [
    "Notice that the first argument to the namedtuple function is a string representing the name of the class being created. By convention, this is the same as the variable name to which we assign the result."
   ]
  },
  {
   "cell_type": "markdown",
   "id": "164d351c-a305-4a68-8d50-b51a21494734",
   "metadata": {},
   "source": [
    "## Properties and Methods\n",
    "Named tuples inherit all methods from regular tuples and add some specialized ones:"
   ]
  },
  {
   "cell_type": "code",
   "execution_count": 80,
   "id": "86eb42e5-d0cb-4355-8a49-ca5c4d3484eb",
   "metadata": {},
   "outputs": [
    {
     "name": "stdout",
     "output_type": "stream",
     "text": [
      "3\n",
      "Alice Smith\n",
      "Alice Smith\n",
      "Physics\n",
      "Alice Smith\n",
      "{'name': 'Alice Smith', 'gpa': 3.8, 'courses': ['Math', 'Physics', 'CS']}\n",
      "Student(name='Bob Johnson', gpa=3.8, courses=['Math', 'Physics', 'CS'])\n",
      "('name', 'gpa', 'courses')\n"
     ]
    }
   ],
   "source": [
    "from collections import namedtuple\n",
    "\n",
    "Student = namedtuple('Student', 'name gpa courses')\n",
    "alice = Student('Alice Smith', 3.8, ['Math', 'Physics', 'CS'])\n",
    "\n",
    "# Tuple-like properties\n",
    "print(len(alice))          # Output: 3\n",
    "print(alice[0])            # Output: 'Alice Smith'\n",
    "\n",
    "# Named access\n",
    "print(alice.name)          # Output: 'Alice Smith'\n",
    "print(alice.courses[1])    # Output: 'Physics'\n",
    "\n",
    "# Unpacking works\n",
    "name, gpa, courses = alice\n",
    "print(name)                # Output: 'Alice Smith'\n",
    "\n",
    "# Converting to dictionary\n",
    "student_dict = alice._asdict()\n",
    "print(student_dict)        # Output: {'name': 'Alice Smith', 'gpa': 3.8, 'courses': ['Math', 'Physics', 'CS']}\n",
    "\n",
    "# Creating a new instance with one field changed\n",
    "bob = alice._replace(name='Bob Johnson')\n",
    "print(bob)                 # Output: Student(name='Bob Johnson', gpa=3.8, courses=['Math', 'Physics', 'CS'])\n",
    "\n",
    "# Getting field names\n",
    "print(alice._fields)       # Output: ('name', 'gpa', 'courses')"
   ]
  },
  {
   "cell_type": "markdown",
   "id": "ffd9e40f-51cc-4da8-88da-079a3decfe0a",
   "metadata": {},
   "source": [
    "## Immutability\n",
    "Like regular tuples, named tuples are immutable. This means once you create an instance, you cannot modify its fields:"
   ]
  },
  {
   "cell_type": "code",
   "execution_count": 83,
   "id": "8a5f8f08-f714-404d-806a-5695d5ea9a91",
   "metadata": {},
   "outputs": [
    {
     "name": "stdout",
     "output_type": "stream",
     "text": [
      "Error: can't set attribute\n",
      "Book(title='Python Cookbook', author='David Beazley', year=2020)\n"
     ]
    }
   ],
   "source": [
    "from collections import namedtuple\n",
    "\n",
    "Book = namedtuple('Book', 'title author year')\n",
    "book = Book('Python Cookbook', 'David Beazley', 2013)\n",
    "\n",
    "# This will raise an AttributeError\n",
    "try:\n",
    "    book.year = 2020\n",
    "except AttributeError as e:\n",
    "    print(f\"Error: {e}\")   # Output: Error: can't set attribute\n",
    "\n",
    "# Instead, create a new instance with _replace\n",
    "new_book = book._replace(year=2020)\n",
    "print(new_book)            # Output: Book(title='Python Cookbook', author='David Beazley', year=2020)"
   ]
  },
  {
   "cell_type": "markdown",
   "id": "a87a79dd-5906-4509-8f8c-971efae30ed7",
   "metadata": {},
   "source": [
    "This immutability makes named tuples suitable for representing fixed data that shouldn't change, like coordinates, RGB colors, or database records."
   ]
  },
  {
   "cell_type": "markdown",
   "id": "74e50a74-1aa4-4350-91d5-f03f83887e46",
   "metadata": {},
   "source": [
    "## Advanced Features\n",
    "### Default Values\n",
    "Starting with Python 3.7, you can specify default values for fields using the defaults parameter:"
   ]
  },
  {
   "cell_type": "code",
   "execution_count": 88,
   "id": "6956efd3-223b-49bf-9115-2944e0d32d78",
   "metadata": {},
   "outputs": [
    {
     "name": "stdout",
     "output_type": "stream",
     "text": [
      "Server(address='192.168.1.1', port=8000, user='admin', password=None)\n",
      "True\n"
     ]
    }
   ],
   "source": [
    "from collections import namedtuple\n",
    "\n",
    "# Setting defaults for the last two fields\n",
    "Server = namedtuple('Server', 'address port user password', defaults=['admin', None])\n",
    "\n",
    "# Now these are equivalent\n",
    "s1 = Server('192.168.1.1', 8000)\n",
    "s2 = Server('192.168.1.1', 8000, 'admin', None)\n",
    "\n",
    "print(s1)  # Output: Server(address='192.168.1.1', port=8000, user='admin', password=None)\n",
    "print(s1 == s2)  # Output: True"
   ]
  },
  {
   "cell_type": "markdown",
   "id": "52507a0d-5082-464b-92ca-beae31fa1d1d",
   "metadata": {},
   "source": [
    "### Reserved Keywords as Field Names\n",
    "If you need to use Python reserved keywords as field names, you can set rename=True:"
   ]
  },
  {
   "cell_type": "code",
   "execution_count": 91,
   "id": "c9245174-4608-4f75-95ba-752a16e927c8",
   "metadata": {},
   "outputs": [
    {
     "name": "stdout",
     "output_type": "stream",
     "text": [
      "('id', '_1', 'result')\n",
      "TestCase(id=1, _1='Unit Test', result='Pass')\n"
     ]
    }
   ],
   "source": [
    "from collections import namedtuple\n",
    "\n",
    "# 'class' is a reserved keyword in Python\n",
    "TestCase = namedtuple('TestCase', ['id', 'class', 'result'], rename=True)\n",
    "print(TestCase._fields)  # Output: ('id', '_1', 'result')\n",
    "\n",
    "test = TestCase(1, 'Unit Test', 'Pass')\n",
    "print(test)  # Output: TestCase(id=1, _1='Unit Test', result='Pass')"
   ]
  },
  {
   "cell_type": "markdown",
   "id": "d37b4d9d-71ce-4117-9106-9c72f604bf2e",
   "metadata": {},
   "source": [
    "###  Creating from Dictionary\n",
    "You can create a named tuple instance from a dictionary using the ** unpacking operator:"
   ]
  },
  {
   "cell_type": "code",
   "execution_count": 94,
   "id": "f57642f0-66c1-4cc2-a015-831d727c4793",
   "metadata": {},
   "outputs": [
    {
     "name": "stdout",
     "output_type": "stream",
     "text": [
      "Product(id=1001, name='Keyboard', price=49.99, stock=15)\n"
     ]
    }
   ],
   "source": [
    "from collections import namedtuple\n",
    "\n",
    "Product = namedtuple('Product', 'id name price stock')\n",
    "\n",
    "# Dictionary with product data\n",
    "product_data = {'id': 1001, 'name': 'Keyboard', 'price': 49.99, 'stock': 15}\n",
    "\n",
    "# Create named tuple from dictionary\n",
    "keyboard = Product(**product_data)\n",
    "print(keyboard)  # Output: Product(id=1001, name='Keyboard', price=49.99, stock=15)"
   ]
  },
  {
   "cell_type": "code",
   "execution_count": 104,
   "id": "3643dee2-4d32-4cae-a990-879704b495f7",
   "metadata": {},
   "outputs": [
    {
     "ename": "SyntaxError",
     "evalue": "invalid syntax (2527504557.py, line 1)",
     "output_type": "error",
     "traceback": [
      "\u001b[1;36m  Cell \u001b[1;32mIn[104], line 1\u001b[1;36m\u001b[0m\n\u001b[1;33m    Execlcom telecom\u001b[0m\n\u001b[1;37m             ^\u001b[0m\n\u001b[1;31mSyntaxError\u001b[0m\u001b[1;31m:\u001b[0m invalid syntax\n"
     ]
    }
   ],
   "source": [
    "\n"
   ]
  },
  {
   "cell_type": "code",
   "execution_count": null,
   "id": "eaae247e-14e4-4697-a97d-bf3e9ca88fff",
   "metadata": {},
   "outputs": [],
   "source": [
    "from collections import namedtuple\n",
    "import csv\n",
    "\n",
    "# Let's imagine we have a CSV file with sales data\n",
    "# We'll simulate it with a string\n",
    "csv_data = '''\n",
    "date,product,quantity,price\n",
    "2023-01-15,Laptop,5,1200\n",
    "2023-01-15,Mouse,10,25\n",
    "2023-01-16,Monitor,3,350\n",
    "2023-01-17,Keyboard,8,65\n",
    "2023-01-17,Laptop,2,1200\n",
    "'''\n",
    "\n",
    "# Create a named tuple for a sales record\n",
    "SalesRecord = namedtuple('SalesRecord', 'date product quantity price')\n",
    "\n",
    "# Parse the CSV data\n",
    "sales = []\n",
    "for row in csv.DictReader(csv_data.strip().split('\\n')):\n",
    "    # Convert string values to appropriate types\n",
    "    row['quantity'] = int(row['quantity'])\n",
    "    row['price'] = float(row['price'])\n",
    "    \n",
    "    # Create a named tuple instance\n",
    "    record = SalesRecord(**row)\n",
    "    sales.append(record)\n",
    "\n",
    "# Now we can analyze the data\n",
    "total_revenue = sum(record.quantity * record.price for record in sales)\n",
    "print(f\"Total revenue: ${total_revenue:.2f}\")  # Output: Total revenue: $8570.00\n",
    "\n",
    "# Group sales by date\n",
    "from collections import defaultdict\n",
    "sales_by_date = defaultdict(list)\n",
    "for record in sales:\n",
    "    sales_by_date[record.date].append(record)\n",
    "\n",
    "# Calculate revenue by date\n",
    "for date, records in sales_by_date.items():\n",
    "    date_revenue = sum(r.quantity * r.price for r in records)\n",
    "    print(f\"Revenue on {date}: ${date_revenue:.2f}\")\n",
    "# Output:\n",
    "# Revenue on 2023-01-15: $6250.00\n",
    "# Revenue on 2023-01-16: $1050.00\n",
    "# Revenue on 2023-01-17: $1270.00"
   ]
  },
  {
   "cell_type": "code",
   "execution_count": null,
   "id": "a0459e14-40bb-4e46-84d6-bdd4a3b26e2e",
   "metadata": {},
   "outputs": [],
   "source": []
  },
  {
   "cell_type": "markdown",
   "id": "2f2c6b6f-74f3-40b6-84f1-1513f4bda5ed",
   "metadata": {},
   "source": [
    "## Real-Life Use Cases\n",
    "### 1. Representing Geographic Coordinates\n",
    "Named tuples are perfect for geographic coordinates, which are fixed values with specific meanings:"
   ]
  },
  {
   "cell_type": "code",
   "execution_count": 102,
   "id": "a127d6a4-c3ce-4c02-8130-d1e2d213c538",
   "metadata": {},
   "outputs": [
    {
     "name": "stdout",
     "output_type": "stream",
     "text": [
      "Distance between Everest and K2: 1315.82 km\n"
     ]
    }
   ],
   "source": [
    "from collections import namedtuple\n",
    "import math\n",
    "\n",
    "# Define a coordinate type\n",
    "Coordinate = namedtuple('Coordinate', 'latitude longitude elevation')\n",
    "\n",
    "# Some mountain peaks\n",
    "everest = Coordinate(27.9881, 86.9250, 8848)\n",
    "k2 = Coordinate(35.8818, 76.5150, 8611)\n",
    "\n",
    "# Calculate distance (simplified, ignoring elevation)\n",
    "def haversine_distance(coord1, coord2):\n",
    "    \"\"\"Calculate the great circle distance between two points on the earth.\"\"\"\n",
    "    # Convert latitude and longitude from degrees to radians\n",
    "    lat1, lon1 = math.radians(coord1.latitude), math.radians(coord1.longitude)\n",
    "    lat2, lon2 = math.radians(coord2.latitude), math.radians(coord2.longitude)\n",
    "    \n",
    "    # Haversine formula\n",
    "    dlon = lon2 - lon1\n",
    "    dlat = lat2 - lat1\n",
    "    a = math.sin(dlat/2)**2 + math.cos(lat1) * math.cos(lat2) * math.sin(dlon/2)**2\n",
    "    c = 2 * math.asin(math.sqrt(a))\n",
    "    r = 6371  # Radius of earth in kilometers\n",
    "    \n",
    "    return c * r\n",
    "\n",
    "# Calculate the distance between Everest and K2\n",
    "distance = haversine_distance(everest, k2)\n",
    "print(f\"Distance between Everest and K2: {} km\")\n",
    "# Output: Distance between Everest and K2: 1304.41 km"
   ]
  },
  {
   "cell_type": "code",
   "execution_count": null,
   "id": "e58064f0-8135-4069-ad3f-654f11307a40",
   "metadata": {},
   "outputs": [],
   "source": []
  }
 ],
 "metadata": {
  "kernelspec": {
   "display_name": "Python 3 (ipykernel)",
   "language": "python",
   "name": "python3"
  },
  "language_info": {
   "codemirror_mode": {
    "name": "ipython",
    "version": 3
   },
   "file_extension": ".py",
   "mimetype": "text/x-python",
   "name": "python",
   "nbconvert_exporter": "python",
   "pygments_lexer": "ipython3",
   "version": "3.13.1"
  }
 },
 "nbformat": 4,
 "nbformat_minor": 5
}
