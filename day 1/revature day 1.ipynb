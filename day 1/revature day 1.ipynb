{
 "cells": [
  {
   "cell_type": "code",
   "execution_count": 6,
   "id": "53afda89-b9fa-499a-bca8-1205190531c3",
   "metadata": {},
   "outputs": [
    {
     "name": "stdin",
     "output_type": "stream",
     "text": [
      "enter something >  aA\n"
     ]
    },
    {
     "name": "stdout",
     "output_type": "stream",
     "text": [
      "Its a palindrome\n"
     ]
    }
   ],
   "source": [
    "s = input('enter something > ').lower()\n",
    "print('Its a palindrome' if s == s[::-1] else 'Not a palindrome')"
   ]
  },
  {
   "cell_type": "markdown",
   "id": "bba32a2b-8d45-4c0a-b031-ab0f1c418239",
   "metadata": {},
   "source": [
    "# Introduction to Fizzbuzz Program in Python\n",
    "In the Fizz, Buzz, and Fizz Buzz groups, the programming assignment Fizz-Buzz demonstrates the division of numbers. Assume the user is given the number 'n,' and they are asked to display the string representations of all the numbers from 1 to n. However, there are some restrictions, such as:\n",
    "\n",
    "-  the number can be divided by 3, it will output Fizz instead of the number.\n",
    "- If the number is divisible by 5, the result will display Buzz instead of the number.\n",
    "- And if the given number is divisible by both 3 and 5, Fizz Buzz will be printed instead of the number.\n",
    "- If the number cannot be divided by 3 or 5, it will be printed as a string."
   ]
  },
  {
   "cell_type": "code",
   "execution_count": 9,
   "id": "c5050f89-bfb8-4db1-809b-b7db72c40995",
   "metadata": {},
   "outputs": [
    {
     "name": "stdin",
     "output_type": "stream",
     "text": [
      " 10\n"
     ]
    },
    {
     "name": "stdout",
     "output_type": "stream",
     "text": [
      "1\n",
      "2\n",
      "Fizz\n",
      "4\n",
      "Buzz\n",
      "Fizz\n",
      "7\n",
      "8\n",
      "Fizz\n",
      "Buzz\n"
     ]
    }
   ],
   "source": [
    "n = int(input())\n",
    "for i in range(1, n+1):\n",
    "    if i % 3 == 0 and i % 5 == 0:\n",
    "        print('FizzBuzz')\n",
    "    elif i % 3 == 0:\n",
    "        print('Fizz')\n",
    "    elif i % 5 == 0:\n",
    "        print('Buzz')\n",
    "    else:\n",
    "        print(str(i))"
   ]
  },
  {
   "cell_type": "code",
   "execution_count": 10,
   "id": "f8104915-35ed-49ae-9293-091f153efe59",
   "metadata": {},
   "outputs": [
    {
     "data": {
      "text/plain": [
       "[1, 2, 3, 4]"
      ]
     },
     "execution_count": 10,
     "metadata": {},
     "output_type": "execute_result"
    }
   ],
   "source": [
    "A = [1, 2, 3, 4]\n",
    "A"
   ]
  },
  {
   "cell_type": "code",
   "execution_count": 11,
   "id": "bf1a0bc8-181e-4fcb-bcd7-190cc17e46c2",
   "metadata": {},
   "outputs": [],
   "source": [
    "A.insert(1, 100)"
   ]
  },
  {
   "cell_type": "code",
   "execution_count": 12,
   "id": "c4cbbc4f-249d-4ab7-a832-55ae72f8f9b2",
   "metadata": {},
   "outputs": [
    {
     "data": {
      "text/plain": [
       "[1, 100, 2, 3, 4]"
      ]
     },
     "execution_count": 12,
     "metadata": {},
     "output_type": "execute_result"
    }
   ],
   "source": [
    "A"
   ]
  },
  {
   "cell_type": "code",
   "execution_count": 13,
   "id": "5cf253e2-77a7-45e2-99db-aff5ad01903a",
   "metadata": {},
   "outputs": [],
   "source": [
    "A.insert(len(A), 'end')"
   ]
  },
  {
   "cell_type": "code",
   "execution_count": 14,
   "id": "461551fc-b02d-4600-850c-3f9ede343632",
   "metadata": {},
   "outputs": [
    {
     "data": {
      "text/plain": [
       "[1, 100, 2, 3, 4, 'end']"
      ]
     },
     "execution_count": 14,
     "metadata": {},
     "output_type": "execute_result"
    }
   ],
   "source": [
    "A"
   ]
  },
  {
   "cell_type": "code",
   "execution_count": 15,
   "id": "82336aa5-0678-4713-895f-c1c44f81f979",
   "metadata": {},
   "outputs": [
    {
     "data": {
      "text/plain": [
       "[1, 100, 2, 3, 4, 'abc', 'end']"
      ]
     },
     "execution_count": 15,
     "metadata": {},
     "output_type": "execute_result"
    }
   ],
   "source": [
    "A.insert(-1, 'abc')\n",
    "A"
   ]
  },
  {
   "cell_type": "code",
   "execution_count": 6,
   "id": "e04332ec-470f-4ff0-b81e-2dada871440e",
   "metadata": {},
   "outputs": [],
   "source": [
    "s = list(range(1, 11))"
   ]
  },
  {
   "cell_type": "code",
   "execution_count": 8,
   "id": "5148cb73-cd77-49ad-b1b9-bbecf3a51715",
   "metadata": {},
   "outputs": [
    {
     "data": {
      "text/plain": [
       "list"
      ]
     },
     "execution_count": 8,
     "metadata": {},
     "output_type": "execute_result"
    }
   ],
   "source": [
    "type(s)"
   ]
  }
 ],
 "metadata": {
  "kernelspec": {
   "display_name": "Python 3 (ipykernel)",
   "language": "python",
   "name": "python3"
  },
  "language_info": {
   "codemirror_mode": {
    "name": "ipython",
    "version": 3
   },
   "file_extension": ".py",
   "mimetype": "text/x-python",
   "name": "python",
   "nbconvert_exporter": "python",
   "pygments_lexer": "ipython3",
   "version": "3.13.1"
  }
 },
 "nbformat": 4,
 "nbformat_minor": 5
}
