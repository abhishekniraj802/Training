{
 "cells": [
  {
   "cell_type": "code",
   "execution_count": 19,
   "id": "743e7f2f-a2b9-41dc-b8d4-724f43b0a02a",
   "metadata": {},
   "outputs": [
    {
     "data": {
      "text/plain": [
       "True"
      ]
     },
     "execution_count": 19,
     "metadata": {},
     "output_type": "execute_result"
    }
   ],
   "source": [
    "a = (1, 2, 3)\n",
    "b = a\n",
    "\n",
    "a is b"
   ]
  },
  {
   "cell_type": "code",
   "execution_count": 22,
   "id": "36cbdc54-d982-4ed4-81b2-c330102e05f8",
   "metadata": {},
   "outputs": [
    {
     "data": {
      "text/plain": [
       "False"
      ]
     },
     "execution_count": 22,
     "metadata": {},
     "output_type": "execute_result"
    }
   ],
   "source": [
    "import math\n",
    "math.isclose(1.14, 1.13)"
   ]
  },
  {
   "cell_type": "markdown",
   "id": "d3f06b90-f051-429e-a0cf-075737c521a9",
   "metadata": {},
   "source": [
    "1. Write a program to return the occurances of vowels in a sentence\n",
    "2. return the count of the words in a sentence"
   ]
  },
  {
   "cell_type": "code",
   "execution_count": 27,
   "id": "e10e3b2a-ab2c-490f-bded-8029165431c6",
   "metadata": {},
   "outputs": [
    {
     "name": "stdout",
     "output_type": "stream",
     "text": [
      "10\n"
     ]
    }
   ],
   "source": [
    "# program 1\n",
    "def prog1(sentence):\n",
    "    ans = 0\n",
    "    vowels = set(['a', 'e', 'i', 'o', 'u'])\n",
    "    for x in sentence:\n",
    "        if x.lower() in vowels:\n",
    "            ans += 1\n",
    "    return ans\n",
    "\n",
    "print(prog1('aeiouAEIOUxyzXYZ'))"
   ]
  },
  {
   "cell_type": "code",
   "execution_count": 32,
   "id": "7015ad8f-96e2-41d9-b881-c7e8f6598e43",
   "metadata": {},
   "outputs": [
    {
     "name": "stdout",
     "output_type": "stream",
     "text": [
      "6\n"
     ]
    }
   ],
   "source": [
    "# program 2\n",
    "def prog2(sentence):\n",
    "    return len(sentence.strip().split(' '))\n",
    "\n",
    "print(prog2('hi there, my name is harry'))"
   ]
  },
  {
   "cell_type": "code",
   "execution_count": 1,
   "id": "5429b7ad-d29a-4f81-8531-abe1f6252907",
   "metadata": {},
   "outputs": [
    {
     "data": {
      "text/plain": [
       "'3.13.1 (tags/v3.13.1:0671451, Dec  3 2024, 19:06:28) [MSC v.1942 64 bit (AMD64)]'"
      ]
     },
     "execution_count": 1,
     "metadata": {},
     "output_type": "execute_result"
    }
   ],
   "source": [
    "import sys\n",
    "sys.version"
   ]
  },
  {
   "cell_type": "code",
   "execution_count": 3,
   "id": "8984ebc5-6371-4086-aa98-24779778f38d",
   "metadata": {},
   "outputs": [
    {
     "name": "stdout",
     "output_type": "stream",
     "text": [
      "harry's\n"
     ]
    }
   ],
   "source": [
    "a = b = 1\n",
    "b = 2\n",
    "a\n",
    "print('harry\\'s')"
   ]
  }
 ],
 "metadata": {
  "kernelspec": {
   "display_name": "Python 3 (ipykernel)",
   "language": "python",
   "name": "python3"
  },
  "language_info": {
   "codemirror_mode": {
    "name": "ipython",
    "version": 3
   },
   "file_extension": ".py",
   "mimetype": "text/x-python",
   "name": "python",
   "nbconvert_exporter": "python",
   "pygments_lexer": "ipython3",
   "version": "3.13.1"
  }
 },
 "nbformat": 4,
 "nbformat_minor": 5
}
