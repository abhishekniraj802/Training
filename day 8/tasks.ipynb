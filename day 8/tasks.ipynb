{
 "cells": [
  {
   "cell_type": "code",
   "execution_count": 4,
   "metadata": {},
   "outputs": [
    {
     "name": "stdout",
     "output_type": "stream",
     "text": [
      "the hypotenuse is 5.385164807134504\n"
     ]
    }
   ],
   "source": [
    "# task 1: write a python program which will give me the hypotenuse of a right triangle\n",
    "import math\n",
    "b, h = map(int, input('enter base and height > ').split())\n",
    "print(f'the hypotenuse is {math.sqrt(b**2 + h**2)}')"
   ]
  },
  {
   "cell_type": "code",
   "execution_count": null,
   "metadata": {},
   "outputs": [
    {
     "name": "stdout",
     "output_type": "stream",
     "text": [
      "sin30: 0.50, cos30: 0.87\n"
     ]
    }
   ],
   "source": [
    "# task2: given an angle in degress, calculate the sin and cos\n",
    "angle = int(input('enter the angle in degrees > '))\n",
    "print(f'sin{angle}: {math.sin(math.radians(angle)):.2f}, cos{angle}: {math.cos(math.radians(angle)):.2f}')"
   ]
  }
 ],
 "metadata": {
  "kernelspec": {
   "display_name": "Python 3",
   "language": "python",
   "name": "python3"
  },
  "language_info": {
   "codemirror_mode": {
    "name": "ipython",
    "version": 3
   },
   "file_extension": ".py",
   "mimetype": "text/x-python",
   "name": "python",
   "nbconvert_exporter": "python",
   "pygments_lexer": "ipython3",
   "version": "3.13.1"
  }
 },
 "nbformat": 4,
 "nbformat_minor": 2
}
